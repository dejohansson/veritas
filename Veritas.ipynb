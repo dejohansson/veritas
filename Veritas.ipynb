{
 "cells": [
  {
   "cell_type": "markdown",
   "metadata": {},
   "source": [
    "# Imports and Settings"
   ]
  },
  {
   "cell_type": "code",
   "execution_count": 1,
   "metadata": {},
   "outputs": [],
   "source": [
    "#%matplotlib inline\n",
    "#%matplotlib notebook\n",
    "import numpy as np\n",
    "import pandas as pd\n",
    "from tabulate import tabulate\n",
    "import matplotlib.pyplot as plt\n",
    "from matplotlib import colors, cm, markers\n",
    "import json\n",
    "from itertools import zip_longest, product\n",
    "import os\n",
    "from math import sqrt\n",
    "import holidays\n",
    "import seaborn as sns\n",
    "import time\n",
    "import datetime\n",
    "\n",
    "# instance_varibles\n",
    "# GLOBAL_VARIABLES"
   ]
  },
  {
   "cell_type": "code",
   "execution_count": 2,
   "metadata": {},
   "outputs": [],
   "source": [
    "# Pandas display options\n",
    "pd.set_option('display.max_rows', 800)\n",
    "pd.set_option('display.max_columns', 800)\n",
    "pd.set_option('display.width', 1000)"
   ]
  },
  {
   "cell_type": "code",
   "execution_count": 3,
   "metadata": {},
   "outputs": [],
   "source": [
    "np.random.seed(0)"
   ]
  },
  {
   "cell_type": "code",
   "execution_count": 4,
   "metadata": {
    "tags": []
   },
   "outputs": [
    {
     "output_type": "stream",
     "name": "stdout",
     "text": "c:\\Workspace\\veritas\n"
    }
   ],
   "source": [
    "print(os.getcwd())"
   ]
  },
  {
   "cell_type": "markdown",
   "metadata": {},
   "source": [
    "# Data loading"
   ]
  },
  {
   "cell_type": "code",
   "execution_count": 5,
   "metadata": {},
   "outputs": [],
   "source": [
    "with open(\"veritas_data/parser_menus/menu.json\", \"r\") as f:\n",
    "    MENU = json.load(f)"
   ]
  },
  {
   "cell_type": "code",
   "execution_count": 6,
   "metadata": {
    "tags": []
   },
   "outputs": [],
   "source": [
    "def get_store_id_to_name(file_name):\n",
    "    with open(file_name, \"r\", encoding=\"utf-8\") as f:\n",
    "        raw_stores = json.load(f)\n",
    "        id_to_name = {store[\"Id\"] : store[\"Name\"] for store in raw_stores}\n",
    "    return id_to_name\n",
    "\n",
    "STORE_ID_TO_NAME = get_store_id_to_name(\"veritas_data/stores/all.json\")"
   ]
  },
  {
   "cell_type": "code",
   "execution_count": 8,
   "metadata": {},
   "outputs": [],
   "source": [
    "# start_date, fiters out all dates before start_date\n",
    "# date_unit, determines the unit of the date column if date is a number\n",
    "def load_ts_data(file_name, start_date=None, date_unit=None):\n",
    "    print(\"Loading main columns...\")\n",
    "    df = pd.read_csv(file_name, usecols=[\"device_id\", \"date\", \"store_id\", \"class\", \"total_price\"], header=0)\n",
    "\n",
    "    #print(\"Formatting main columns...\")\n",
    "    #df[\"device_id\"], device_map = df[\"device_id\"].factorize()\n",
    "    #df[\"store_id\"], store_map = df[\"store_id\"].factorize()\n",
    "    #df[\"class\"], class_map = df[\"class\"].factorize()\n",
    "    #df = df.astype(\"uint32\")\n",
    "\n",
    "    print(\"Loading products...\")\n",
    "    with open(file_name, \"r\") as f:\n",
    "        num_columns = len(f.readline().split(\",\"))\n",
    "    for cols in zip_longest(*(iter(range(5, num_columns)),) * 50):\n",
    "        cols = [c for c in cols if c is not None]\n",
    "        temp_df = pd.read_csv(file_name, usecols=list(cols), header=0, dtype=\"uint8\")\n",
    "        temp_df = temp_df.loc[:, (temp_df != 0).any(axis=0)]   # Remove \"zero\" columns\n",
    "        df = pd.concat([df, temp_df], axis=1)\n",
    "\n",
    "    wl = [col for col in df.columns if col not in ['device_id', 'store_id', 'class', \"date\"]]\n",
    "    df = df.drop(df[df[wl].eq(0).all(axis=1)].index)\n",
    "    if date_unit is None:\n",
    "        df['date'] = pd.to_datetime(df['date'])\n",
    "    else:\n",
    "        df['date'] = pd.to_datetime(df['date'], unit=date_unit)\n",
    "    if start_date is not None:\n",
    "            df.drop(df[df[\"date\"] < start_date].index, inplace=True)\n",
    "    df.set_index([\"store_id\", \"device_id\", \"date\"], inplace=True)\n",
    "    return df#, device_map, store_map, class_map\n"
   ]
  },
  {
   "cell_type": "code",
   "execution_count": 9,
   "metadata": {
    "tags": []
   },
   "outputs": [
    {
     "output_type": "stream",
     "name": "stdout",
     "text": "Loading main columns...\nLoading products...\n"
    }
   ],
   "source": [
    "TS_FILE = \"veritas_data/post_parser_orders/device_time_series_2020_01-01_to_02-19.csv\"\n",
    "TSF = load_ts_data(TS_FILE, start_date=\"2020-01-01\", date_unit=None)"
   ]
  },
  {
   "cell_type": "code",
   "execution_count": 10,
   "metadata": {},
   "outputs": [],
   "source": [
    "TSF.drop(\"class\", axis=1, inplace=True)"
   ]
  },
  {
   "cell_type": "code",
   "execution_count": 11,
   "metadata": {},
   "outputs": [
    {
     "output_type": "execute_result",
     "data": {
      "text/plain": "Index(['total_price', 'product_4', 'product_5', 'product_6', 'product_8', 'product_9', 'product_10', 'product_11', 'product_12', 'product_14',\n       ...\n       'product_392', 'product_393', 'product_394', 'product_395', 'product_396', 'product_397', 'product_398', 'product_400', 'product_401', 'product_402'], dtype='object', length=196)"
     },
     "metadata": {},
     "execution_count": 11
    }
   ],
   "source": [
    "TSF.columns"
   ]
  },
  {
   "cell_type": "code",
   "execution_count": 12,
   "metadata": {},
   "outputs": [],
   "source": [
    "#COL_WL = [col for col in TSF.columns if col not in [\"device_id\", \"store_id\", \"class\"]]"
   ]
  },
  {
   "cell_type": "markdown",
   "metadata": {},
   "source": [
    "# Utility functions"
   ]
  },
  {
   "cell_type": "code",
   "execution_count": 13,
   "metadata": {},
   "outputs": [],
   "source": [
    "def save_df(df, path):\n",
    "    if not os.path.isfile(path):\n",
    "        df.to_csv(path)\n",
    "    else:\n",
    "        print(path, \"already exists!\")"
   ]
  },
  {
   "cell_type": "code",
   "execution_count": 14,
   "metadata": {
    "tags": []
   },
   "outputs": [],
   "source": [
    "# Returns the device_id, number of orders and the data frame of the device with the most orders\n",
    "def get_top_devices(device_id_list, ts_frame, n):\n",
    "    top_devices = []\n",
    "    for device_id in device_id_list:\n",
    "        df = ts_frame.loc[ts_frame[\"device_id\"] == device_id, [\"store_id\"]]\n",
    "        try:\n",
    "            store_id = df.values[0][0]\n",
    "        except:\n",
    "            continue\n",
    "        num_orders = len(df.index)\n",
    "        top_devices.append((device_id, num_orders, store_id))\n",
    "        top_devices = sorted(top_devices, key=lambda d: d[1], reverse=True)[:n]\n",
    "    return top_devices\n",
    "\n",
    "# Returns df without rows where col_name equals a value occuring less than threshold times\n",
    "def trim_low_occurance_values(df, col_name, threshold):\n",
    "    s = df[col_name].value_counts().ge(threshold)\n",
    "    return df[df[col_name].isin(s[s].index)]"
   ]
  },
  {
   "cell_type": "code",
   "execution_count": 15,
   "metadata": {},
   "outputs": [],
   "source": [
    "def get_test_train_split(df, train_delta=pd.Timedelta(4, unit='W'), forecast_delta=pd.Timedelta(1, unit='W'), expanding_window=False, seed=0):\n",
    "    np.random.seed(seed)\n",
    "    first_date = df.index.get_level_values(\"date\").min()\n",
    "    last_date = df.index.get_level_values(\"date\").max()\n",
    "    start = first_date\n",
    "    mid = start + train_delta\n",
    "    end = mid + forecast_delta\n",
    "    \n",
    "    intervals = []\n",
    "    while end < last_date:\n",
    "        intervals.append((start, mid, end))\n",
    "        t_delta = forecast_delta*max(min(np.random.normal(0.5, 0.05), 1), 0.4)\n",
    "        if not expanding_window:\n",
    "            start += t_delta\n",
    "        mid += t_delta\n",
    "        end += t_delta\n",
    "    \n",
    "    if not expanding_window:\n",
    "        start = last_date-train_delta-forecast_delta\n",
    "    mid = last_date-forecast_delta\n",
    "    end = last_date\n",
    "    if start > first_date and mid > first_date:\n",
    "        intervals.append((start, mid, end))\n",
    "        \n",
    "    return intervals"
   ]
  },
  {
   "cell_type": "code",
   "execution_count": 16,
   "metadata": {
    "tags": []
   },
   "outputs": [],
   "source": [
    "# \n",
    "def get_intervals(df, t_delta, seed=0):\n",
    "    np.random.seed(seed)\n",
    "    first_date = df.index.min()[2]\n",
    "    last_date = df.index.max()[2]\n",
    "    time_step = last_date-t_delta\n",
    "    intervals = []\n",
    "    while time_step > first_date:\n",
    "        start = time_step\n",
    "        end = time_step+t_delta\n",
    "        intervals.append((start, end))\n",
    "        time_step -= (t_delta*max(min(np.random.normal(0.5, 0.05), 1), 0.4))\n",
    "    intervals.append((first_date, first_date+t_delta))\n",
    "    return intervals\n",
    "\n",
    "def sparsity_coefficient(df):\n",
    "    return 1.0 - (np.count_nonzero(df) / np.product(df.shape))"
   ]
  },
  {
   "cell_type": "code",
   "execution_count": 17,
   "metadata": {},
   "outputs": [],
   "source": [
    "from scipy.spatial.distance import squareform, pdist\n",
    "\n",
    "def reindex_by_date(df, start, end, freq, fill_value=0):\n",
    "    dates = pd.date_range(start=start, end=end, freq=freq)\n",
    "    index = list(set(df.index.droplevel(\"date\").tolist()))\n",
    "    index.sort()\n",
    "    dates = [(i, j, d) for i, j in index for d in dates]\n",
    "    df = df.reindex(dates).fillna(0)\n",
    "    return df\n",
    "\n",
    "def flatten_ts(df):\n",
    "    return df.values.flatten()\n",
    "\n",
    "# \n",
    "def format_ts(df, start, end, freq, whitelist=[], flatten=False, normalize=False, sales_percentage=False):\n",
    "    product_cols = [col for col in df.columns if \"product\" in col]\n",
    "    df.rename(columns={\"total_price\": \"average_price\"}, inplace=True)\n",
    "    df[\"num_orders\"] = 1\n",
    "    agg_dict = {col_name: np.sum for col_name in df.columns}\n",
    "    agg_dict.update({\"average_price\": np.mean})\n",
    "    df = df.groupby([df.index.get_level_values(i) for i in [0,1]]+[pd.Grouper(freq=freq, level=-1)]).agg(agg_dict)\n",
    "    df = reindex_by_date(df, df.index.get_level_values(\"date\")[0], df.index.get_level_values(\"date\")[-1], freq)\n",
    "    if sales_percentage:\n",
    "        df[product_cols] = df[product_cols].div(df[product_cols].sum(axis=1), axis=0)\n",
    "    if normalize:\n",
    "        df -= df.min()\n",
    "        df /= df.max()\n",
    "    df = df.fillna(0)\n",
    "    if flatten:\n",
    "        df.index.droplevel(\"store_id\")\n",
    "        device_index = df.index.droplevel(\"date\").drop_duplicates()\n",
    "        df = df.groupby(level=\"device_id\").apply(flatten_ts)\n",
    "        df = pd.DataFrame(np.stack(df), index=device_index)\n",
    "    return df\n",
    "\n",
    "def correlation_matrix(df, start, end, freq, whitelist, dist_func, normalize=False, sales_percentage=False):\n",
    "    start_time = time.time()\n",
    "    ids = df.index.get_level_values(\"device_id\").unique()\n",
    "    err_df = pd.DataFrame(index=ids, columns=ids)\n",
    "\n",
    "    print(\"Formatting devices...\")\n",
    "    df = format_ts(df, start, end, freq, whitelist, normalize=normalize, sales_percentage=sales_percentage, flatten=True)\n",
    "\n",
    "    print(\"Generating correlation matrix...\")\n",
    "    err_df = pd.DataFrame(squareform(pdist(df, metric=\"euclidean\")), columns=df.index, index=df.index)\n",
    "    print(\"Done!\", \"\\tElapsed time:\", str(datetime.timedelta(seconds=(time.time()-start_time))))\n",
    "    return err_df"
   ]
  },
  {
   "cell_type": "markdown",
   "metadata": {},
   "source": [
    "# Cluster Score Testing"
   ]
  },
  {
   "cell_type": "code",
   "execution_count": 18,
   "metadata": {},
   "outputs": [],
   "source": [
    "# Cophenetic Testing\n",
    "\n",
    "from sklearn.metrics import silhouette_score\n",
    "from sklearn.decomposition import PCA, TruncatedSVD\n",
    "from scipy.cluster.hierarchy import linkage, fcluster, dendrogram, cophenet\n",
    "\n",
    "def cophenet_test(df, intervals, freqs, metrics, methods, pcas, whitelist=[], verbose=False):\n",
    "    start_time = time.time()\n",
    "    scores = []\n",
    "    if verbose:\n",
    "        print(\"Running tests...\")\n",
    "    windows = [(l, w) for l in intervals for w in get_intervals(df, l)]\n",
    "    n_tests = len(windows)*len(freqs)*len(metrics)*len(methods)*len(pcas)\n",
    "    if n_tests == 0:\n",
    "        print(\"Parameters generated zero tests!!!\")\n",
    "        return\n",
    "    tests_completed = 0\n",
    "\n",
    "    for interval, (start, end) in windows:\n",
    "        window = df[(df.index.get_level_values(\"date\") > start) & (df.index.get_level_values(\"date\") <= end)]\n",
    "        n_devices = window.index.get_level_values(\"device_id\").nunique()\n",
    "        if n_devices > 1:\n",
    "            for freq in freqs:\n",
    "                formatted_window = format_ts(window, start, end, freq, whitelist, flatten=True, normalize=True)\n",
    "                for n_pca in pcas:\n",
    "                    try:\n",
    "                        window_components = TruncatedSVD(n_components=n_pca).fit_transform(formatted_window)\n",
    "                        for metric in metrics:\n",
    "                            dist = pdist(window_components, metric=metric)\n",
    "                            for method in methods:\n",
    "                                if method != \"ward\" or metric == \"euclidean\":\n",
    "                                    link = linkage(dist, method=method)\n",
    "                                    score = cophenet(link, dist)[0]\n",
    "                                    scores.append((interval, freq, metric, method, n_pca, score))\n",
    "                                tests_completed += 1\n",
    "                                if verbose:\n",
    "                                    time_est = (n_tests-tests_completed) * (datetime.timedelta(seconds=(time.time()-start_time)) / tests_completed)\n",
    "                                    print(\"\\rTest:\", str(tests_completed) + \"/\" + str(n_tests), \"\\tTime remaining (est):\", str(time_est), end=\"\")\n",
    "                    except ValueError:\n",
    "                        break\n",
    "        else:\n",
    "            tests_completed += n_tests//len(windows)\n",
    "            if verbose:\n",
    "                time_est = (n_tests-tests_completed) * (datetime.timedelta(seconds=(time.time()-start_time)) / tests_completed)\n",
    "                print(\"\\rTest:\", str(tests_completed) + \"/\" + str(n_tests), \"\\tTime remaining (est):\", str(time_est), end=\"\")\n",
    "                            \n",
    "        \n",
    "    if verbose:\n",
    "        print(\"\\nDone! Total time:\", str(datetime.timedelta(seconds=(time.time()-start_time))))\n",
    "    return scores"
   ]
  },
  {
   "cell_type": "code",
   "execution_count": 221,
   "metadata": {},
   "outputs": [],
   "source": [
    "from sklearn.cluster import KMeans, OPTICS, DBSCAN\n",
    "from scipy.cluster.hierarchy import linkage, fcluster\n",
    "from scipy.spatial.distance import squareform, pdist\n",
    "\n",
    "def k_means(x, n_clust):\n",
    "    return KMeans(n_clusters=n_clust, random_state=0, n_jobs=-1).fit(x).labels_\n",
    "\n",
    "def optics(x, min_samples):\n",
    "    return OPTICS(min_samples=min_samples, metric=\"euclidean\").fit(x).labels_\n",
    "\n",
    "def agglomerative_complete(x, n_clust):\n",
    "    dist = pdist(x, metric=\"euclidean\")\n",
    "    link = linkage(dist, method=\"complete\")\n",
    "    return fcluster(link, t=n_clust, criterion=\"maxclust\").astype(\"float64\")\n",
    "\n",
    "def agglomerative_single(x, n_clust):\n",
    "    dist = pdist(x, metric=\"euclidean\")\n",
    "    link = linkage(dist, method=\"single\")\n",
    "    return fcluster(link, t=n_clust, criterion=\"maxclust\").astype(\"float64\")\n",
    "\n",
    "def agglomerative_ward(x, n_clust):\n",
    "    dist = pdist(x, metric=\"euclidean\")\n",
    "    link = linkage(dist, method=\"ward\")\n",
    "    return fcluster(link, t=n_clust, criterion=\"maxclust\").astype(\"float64\")\n",
    "    \n",
    "def store_clust(x):\n",
    "    return x.index.get_level_values(\"store_id\")\n"
   ]
  },
  {
   "cell_type": "code",
   "execution_count": 20,
   "metadata": {},
   "outputs": [],
   "source": [
    "# Store based clustering\n",
    "# 100 PCA!\n",
    "from sklearn.metrics import silhouette_score, calinski_harabasz_score, davies_bouldin_score\n",
    "\n",
    "def clust_test(df, intervals, freqs, clust_funcs, verbose=False):\n",
    "    start_time = time.time()\n",
    "    scores = []\n",
    "    if verbose:\n",
    "        print(\"Running tests...\")\n",
    "    windows = [(l, w) for l in intervals for w in get_intervals(df, l)]\n",
    "    n_tests = len(windows)*len(freqs)*len(clust_funcs)\n",
    "    if n_tests == 0:\n",
    "        print(\"Parameters generated zero tests!!!\")\n",
    "        return\n",
    "    tests_completed = 0\n",
    "\n",
    "    for interval, (start, end) in windows:\n",
    "        window = df[(df.index.get_level_values(\"date\") > start) & (df.index.get_level_values(\"date\") <= end)]\n",
    "        n_devices = window.index.get_level_values(\"device_id\").nunique()\n",
    "        if n_devices > 1:\n",
    "            for freq in freqs:\n",
    "                if pd.to_timedelta(freq) > interval:\n",
    "                    tests_completed += n_tests//len(windows)//len(freqs)\n",
    "                    if verbose:\n",
    "                        time_est = (n_tests-tests_completed) * (datetime.timedelta(seconds=(time.time()-start_time)) / tests_completed)\n",
    "                        print(\"\\rTest:\", str(tests_completed) + \"/\" + str(n_tests), \"\\tTime remaining (est):\", str(time_est), end=\"\")   \n",
    "                    continue\n",
    "                formatted_window = format_ts(window, start, end, freq, [], flatten=True, normalize=True)    \n",
    "                svd = TruncatedSVD(n_components=min(1000, formatted_window.shape[1]-1), random_state=0)\n",
    "                svd.fit(formatted_window)\n",
    "                variance = svd.explained_variance_ratio_.cumsum()\n",
    "                window_components = svd.transform(formatted_window)[:,variance < 0.96]\n",
    "                n_components = window_components.shape[1]\n",
    "                dist = pdist(window_components, metric=\"euclidean\")\n",
    "                for clust_func in clust_funcs:\n",
    "                    si_score = ch_score = np.NINF \n",
    "                    db_score = np.inf\n",
    "                    si_n_clust = ch_n_clust = db_n_clust = None\n",
    "                    si_n_outliers = ch_n_outliers = db_n_outliers = None\n",
    "                    if clust_func == optics:\n",
    "                        for min_samples in range(2, min(100, n_devices//20), 2):\n",
    "                            clust_labels = clust_func(window_components, min_samples)\n",
    "                            mask = clust_labels != -1\n",
    "                            n_outliers = np.count_nonzero(clust_labels == -1)\n",
    "                            clust_labels = clust_labels[mask]\n",
    "                            n_clust = len(np.unique(clust_labels))\n",
    "                            if n_clust < 2 : continue\n",
    "                            si = silhouette_score(squareform(dist)[mask][:,mask], clust_labels)\n",
    "                            if si > si_score:\n",
    "                                si_score = si\n",
    "                                si_n_clust = n_clust\n",
    "                                si_n_outliers = n_outliers\n",
    "                            ch = calinski_harabasz_score(squareform(dist)[mask][:,mask], clust_labels)\n",
    "                            if ch > ch_score:\n",
    "                                ch_score = ch\n",
    "                                ch_n_clust = n_clust\n",
    "                                ch_n_outliers = n_outliers\n",
    "                            db = davies_bouldin_score(squareform(dist)[mask][:,mask], clust_labels)\n",
    "                            if db < db_score:\n",
    "                                db_score = db\n",
    "                                db_n_clust = n_clust\n",
    "                                db_n_outliers = n_outliers\n",
    "                    elif clust_func == store_clust:\n",
    "                        clust_labels = clust_func(formatted_window)\n",
    "                        si_score = silhouette_score(squareform(dist), clust_labels)\n",
    "                        ch_score = calinski_harabasz_score(squareform(dist), clust_labels)\n",
    "                        db_score = davies_bouldin_score(squareform(dist), clust_labels)\n",
    "                        si_n_clust = ch_n_clust = db_n_clust = len(np.unique(clust_labels))\n",
    "                    else:\n",
    "                        for n_clust in range(2, min(100, n_devices//2)):\n",
    "                            clust_labels = clust_func(window_components, n_clust)\n",
    "                            si = silhouette_score(squareform(dist), clust_labels)\n",
    "                            if si > si_score:\n",
    "                                si_score = si\n",
    "                                si_n_clust = n_clust\n",
    "                            ch = calinski_harabasz_score(squareform(dist), clust_labels)\n",
    "                            if ch > ch_score:\n",
    "                                ch_score = ch\n",
    "                                ch_n_clust = n_clust\n",
    "                            db = davies_bouldin_score(squareform(dist), clust_labels)\n",
    "                            if db < db_score:\n",
    "                                db_score = db\n",
    "                                db_n_clust = n_clust\n",
    "                    scores.append((interval, freq, clust_func.__name__, si_score, ch_score, db_score, si_n_clust, ch_n_clust, db_n_clust, n_components, si_n_outliers, ch_n_outliers, db_n_outliers))\n",
    "                    tests_completed += 1\n",
    "                    if verbose:\n",
    "                        time_est = (n_tests-tests_completed) * (datetime.timedelta(seconds=(time.time()-start_time)) / tests_completed)\n",
    "                        print(\"\\rTest:\", str(tests_completed) + \"/\" + str(n_tests), \"\\tTime remaining (est):\", str(time_est), end=\"\")\n",
    "        else:\n",
    "            tests_completed += n_tests//len(windows)\n",
    "            if verbose:\n",
    "                time_est = (n_tests-tests_completed) * (datetime.timedelta(seconds=(time.time()-start_time)) / tests_completed)\n",
    "                print(\"\\rTest:\", str(tests_completed) + \"/\" + str(n_tests), \"\\tTime remaining (est):\", str(time_est), end=\"\")        \n",
    "    if verbose:\n",
    "        print(\"\\nDone! Total time:\", str(datetime.timedelta(seconds=(time.time()-start_time))))\n",
    "    return scores"
   ]
  },
  {
   "cell_type": "code",
   "execution_count": null,
   "metadata": {
    "tags": []
   },
   "outputs": [],
   "source": [
    "start, end = get_intervals(TSF, pd.Timedelta(1, unit=\"D\"))[0]\n",
    "\n",
    "window = TSF[(TSF.index.get_level_values(\"date\") > start) & (TSF.index.get_level_values(\"date\") <= end)]\n",
    "formatted_window = format_ts(window, start, end, \"1H\", [], flatten=True, normalize=True)\n",
    "formatted_window.shape    \n",
    "svd = TruncatedSVD(n_components=min(1000, formatted_window.shape[1]-1), random_state=0)\n",
    "svd.fit(formatted_window)\n",
    "variance = svd.explained_variance_ratio_.cumsum()\n",
    "print(len(variance), len(svd.transform(formatted_window)))\n",
    "window_components = svd.transform(formatted_window)[:,(variance < 0.96)]\n",
    "n_components = len(window_components)\n",
    "print(svd.transform(formatted_window).shape[1], window_components.shape[1])"
   ]
  },
  {
   "cell_type": "code",
   "execution_count": null,
   "metadata": {},
   "outputs": [],
   "source": [
    "# 1, 3, 7, 14, 28 Days\n",
    "# 1, 6, 12, 24, 48 Hours\n",
    "\n",
    "TEST_NAME = \"6-methods_interval-1D-28D_freq-6H-48H_SVD-95-percent\"\n",
    "TEST_RES_PATH = \"./test_results/clust/\" + TEST_NAME + \".csv\"\n",
    "#TEST_INDEX = [\"interval\", \"frequency\", \"metric\", \"method\", \"n_pca\"]\n",
    "TEST_INDEX = [\"interval\", \"frequency\", \"clust_func\"]"
   ]
  },
  {
   "cell_type": "code",
   "execution_count": null,
   "metadata": {
    "tags": []
   },
   "outputs": [],
   "source": [
    "FREQ_UNIT = \"H\"\n",
    "INTERVALS = [pd.Timedelta(n, unit=\"D\") for n in [1, 3, 7, 14, 28]]\n",
    "FREQS = [str(n)+FREQ_UNIT for n in [6, 48]]\n",
    "DIST_METRICS = [\"euclidean\"]\n",
    "LINK_METHODS = [\"average\"]\n",
    "PCAS = [20, 60, 100, 200, 300]\n",
    "METHODS = [k_means, optics, agglomerative_complete, agglomerative_ward, agglomerative_single, store_clust]\n",
    "\n",
    "TEST_RES = clust_test(TSF, INTERVALS, FREQS, METHODS, verbose=True)"
   ]
  },
  {
   "cell_type": "code",
   "execution_count": null,
   "metadata": {},
   "outputs": [],
   "source": [
    "TEST_DF = pd.DataFrame(TEST_RES, columns=TEST_INDEX+[\"si_score\", \"ch_score\", \"db_score\", \"si_n_clust\", \"ch_n_clust\", \"db_n_clust\", \"n_components\", \"si_n_outliers\", \"ch_n_outliers\", \"db_n_outliers\"])\n",
    "TEST_DF.set_index(TEST_INDEX, inplace=True)"
   ]
  },
  {
   "cell_type": "code",
   "execution_count": null,
   "metadata": {},
   "outputs": [],
   "source": [
    "TEST_DF"
   ]
  },
  {
   "cell_type": "code",
   "execution_count": null,
   "metadata": {},
   "outputs": [],
   "source": [
    "save_df(TEST_DF, TEST_RES_PATH)"
   ]
  },
  {
   "cell_type": "markdown",
   "metadata": {},
   "source": [
    "# Test Visualization"
   ]
  },
  {
   "cell_type": "code",
   "execution_count": null,
   "metadata": {},
   "outputs": [],
   "source": [
    "TEST_DF = pd.read_csv(TEST_RES_PATH)\n",
    "#TEST_DF = pd.read_csv(\"./test_results/\" + \"frequency_test_2W_30min_to_10080min\" + \".csv\")\n",
    "\n",
    "#TEST_DF = pd.concat([pd.read_csv(\"./test_results/\" + \"frequency_test_1W_30min_to_4320min\" + \".csv\"), pd.read_csv(\"./test_results/\" + \"frequency_test_1W_4350min_to_10080min\" + \".csv\")])\n",
    "TEST_DF.set_index(TEST_INDEX, inplace=True)\n",
    "TEST_DF.columns"
   ]
  },
  {
   "cell_type": "code",
   "execution_count": null,
   "metadata": {},
   "outputs": [],
   "source": [
    "TEST_DF.replace({np.inf: None, np.NINF: None}, inplace=True)\n",
    "TEST_DF.drop([\"n_components\",\"si_n_outliers\", \"ch_n_outliers\", \"db_n_outliers\"], axis=1, inplace=True)\n",
    "F_TEST_DF = pd.DataFrame(index=TEST_DF.index.drop_duplicates())\n",
    "F_TEST_DF[['si_score_mean', 'ch_score_mean', 'db_score_mean', 'si_n_clust_mean', 'ch_n_clust_mean', 'db_n_clust_mean']] = TEST_DF.groupby(level=list(range(len(TEST_INDEX))))['si_score', 'ch_score', 'db_score', 'si_n_clust', 'ch_n_clust', 'db_n_clust'].mean()\n",
    "F_TEST_DF[['si_score_median', 'ch_score_median', 'db_score_median', 'si_n_clust_median', 'ch_n_clust_median', 'db_n_clust_median']] = TEST_DF.groupby(level=list(range(len(TEST_INDEX))))['si_score', 'ch_score', 'db_score', 'si_n_clust', 'ch_n_clust', 'db_n_clust'].median()\n",
    "F_TEST_DF[['si_score_min', 'ch_score_min', 'db_score_min', 'si_n_clust_min', 'ch_n_clust_min', 'db_n_clust_min']] = TEST_DF.groupby(level=list(range(len(TEST_INDEX))))['si_score', 'ch_score', 'db_score', 'si_n_clust', 'ch_n_clust', 'db_n_clust'].min()\n",
    "F_TEST_DF[['si_score_max', 'ch_score_max', 'db_score_max', 'si_n_clust_max', 'ch_n_clust_max', 'db_n_clust_max']] = TEST_DF.groupby(level=list(range(len(TEST_INDEX))))['si_score', 'ch_score', 'db_score', 'si_n_clust', 'ch_n_clust', 'db_n_clust'].max()\n",
    "#F_TETS_DF = F_TETS_DF.groupby(level=list(range(len(TEST_INDEX)))).mean()\n",
    "F_TEST_DF"
   ]
  },
  {
   "cell_type": "code",
   "execution_count": null,
   "metadata": {},
   "outputs": [],
   "source": [
    "save_df(F_TEST_DF, TEST_RES_PATH)"
   ]
  },
  {
   "cell_type": "code",
   "execution_count": null,
   "metadata": {},
   "outputs": [],
   "source": [
    "TEST_DF[\"mean_cophenetic_score\"] = TEST_DF.groupby(level=list(range(len(TEST_INDEX))))[\"cophenet_score\"].mean()\n",
    "TEST_DF[\"median_cophenetic_score\"] = TEST_DF.groupby(level=list(range(len(TEST_INDEX))))[\"cophenet_score\"].median()\n",
    "TEST_DF[\"max_cophenetic_score\"] = TEST_DF.groupby(level=list(range(len(TEST_INDEX))))[\"cophenet_score\"].max()\n",
    "TEST_DF[\"min_cophenetic_score\"] = TEST_DF.groupby(level=list(range(len(TEST_INDEX))))[\"cophenet_score\"].min()\n",
    "TEST_DF.drop([\"cophenet_score\"], axis=1, inplace=True)\n",
    "TEST_DF = TEST_DF.loc[~TEST_DF.index.duplicated(keep=\"first\")]\n",
    "TEST_DF.index = TEST_DF.index.set_levels(TEST_DF.index.levels[TEST_DF.index.names.index(\"frequency\")].str.replace(\"H\", \"\").astype(\"int32\"), level=\"frequency\")"
   ]
  },
  {
   "cell_type": "code",
   "execution_count": null,
   "metadata": {},
   "outputs": [],
   "source": [
    "# Plot column\n",
    "COLUMN_LABEL = \"n_pca\"\n",
    "TEST_DF = TEST_DF.sort_values(by=[COLUMN_LABEL], ascending=True)\n",
    "plt.figure(figsize=(20,6))\n",
    "plt.xticks(TEST_DF.index.get_level_values(COLUMN_LABEL).to_series())\n",
    "plt.scatter(TEST_DF.index.get_level_values(COLUMN_LABEL), TEST_DF[\"mean_cophenetic_score\"])\n",
    "plt.axhline(y=TEST_DF[\"mean_cophenetic_score\"].max(), color='r', linestyle='-')\n",
    "plt.axvline(x=TEST_DF[\"mean_cophenetic_score\"].idxmax()[TEST_DF.index.names.index(COLUMN_LABEL)], color='r', linestyle='-')\n",
    "plt.grid()"
   ]
  },
  {
   "cell_type": "code",
   "execution_count": null,
   "metadata": {},
   "outputs": [],
   "source": [
    "plt.figure(figsize=(12,25))\n",
    "ax = sns.heatmap(TEST_DF.sort_values(by=[\"mean_cophenetic_score\"], ascending=False), cmap=sns.cm.rocket_r, annot=True, fmt=\".4g\") #.sort_values(by=[\"mean_cophenetic_score\"], ascending=False)\n",
    "ax.xaxis.tick_top()\n",
    "ax.xaxis.set_label_position(\"top\")\n",
    "ax.yaxis.label.set_size(16)\n",
    "ax.set_title(\"Hierarchical clustering comparison\", fontsize=24)\n",
    "ax.text(0.5, -0.05, \"Cophonetic Correlation Score (higher is better)\\nSample frequency: 1 hour,    Interval length: 1 week,    Number of intervals: 8\",\n",
    "        verticalalignment=\"bottom\", horizontalalignment=\"center\",\n",
    "        transform=ax.transAxes, fontsize=12)\n",
    "plt.show()"
   ]
  },
  {
   "cell_type": "code",
   "execution_count": null,
   "metadata": {},
   "outputs": [],
   "source": [
    "DIST_METRICS = [\"euclidean\", \"cityblock\", \"cosine\", \"correlation\"]\n",
    "LINK_METHODS = [\"ward\", \"complete\", \"average\", \"single\", \"weighted\", \"centroid\", \"median\"]\n",
    "INTERVAL = pd.Timedelta(1, unit=\"W\")\n",
    "FREQ = \"1H\"\n",
    "COPHENET_SCORES = cophenet_test(TSF, INTERVAL, FREQ, DIST_METRICS, LINK_METHODS)"
   ]
  },
  {
   "cell_type": "code",
   "execution_count": null,
   "metadata": {},
   "outputs": [],
   "source": [
    "COP_DF = pd.DataFrame(COPHENET_SCORES, columns=[\"metric\", \"method\", \"cophenet_score\"])\n",
    "COP_DF.set_index([\"metric\", \"method\"], inplace=True)\n",
    "COP_DF[\"mean_cophenetic_score\"] = COP_DF.groupby([\"metric\", \"method\"])[\"cophenet_score\"].mean()\n",
    "COP_DF[\"median_cophenetic_score\"] = COP_DF.groupby([\"metric\", \"method\"])[\"cophenet_score\"].median()\n",
    "COP_DF[\"max_cophenetic_score\"] = COP_DF.groupby([\"metric\", \"method\"])[\"cophenet_score\"].max()\n",
    "COP_DF[\"min_cophenetic_score\"] = COP_DF.groupby([\"metric\", \"method\"])[\"cophenet_score\"].min()\n",
    "COP_DF.drop([\"cophenet_score\"], axis=1, inplace=True)\n",
    "COP_DF = COP_DF.loc[~COP_DF.index.duplicated(keep='first')]\n",
    "\n",
    "plt.figure(figsize=(12,15), )\n",
    "ax = sns.heatmap(COP_DF.sort_values(by=[\"mean_cophenetic_score\"], ascending=False), cmap=sns.cm.rocket_r, annot=True, fmt=\".4g\")\n",
    "ax.xaxis.tick_top()\n",
    "ax.xaxis.set_label_position(\"top\")\n",
    "ax.yaxis.label.set_size(16)\n",
    "ax.set_title(\"Hierarchical clustering comparison\", fontsize=24)\n",
    "ax.text(0.5, -0.05, \"Cophonetic Correlation Score (higher is better)\\nSample frequency: 1 hour,    Interval length: 1 week,    Number of intervals: 8\",\n",
    "        verticalalignment=\"bottom\", horizontalalignment=\"center\",\n",
    "        transform=ax.transAxes, fontsize=12)\n",
    "plt.show()"
   ]
  },
  {
   "cell_type": "markdown",
   "metadata": {},
   "source": [
    "# PCA/SVD Analysis\n",
    "Investigate optimal number of PCAs"
   ]
  },
  {
   "cell_type": "code",
   "execution_count": null,
   "metadata": {
    "tags": []
   },
   "outputs": [],
   "source": [
    "# PCA/SVD Analysis\n",
    "from sklearn.metrics import silhouette_score\n",
    "from sklearn.decomposition import PCA, TruncatedSVD\n",
    "from sklearn.manifold import TSNE\n",
    "from sklearn.preprocessing import scale\n",
    "from scipy.cluster.hierarchy import linkage, fcluster, dendrogram, cophenet\n",
    "from mpl_toolkits.mplot3d import Axes3D\n",
    "import mayavi.mlab as myalab\n",
    "\n",
    "SAMPLE_FREQUENCY = \"1H0min\"\n",
    "START, END = get_intervals(TSF, pd.Timedelta(1, unit=\"D\"))[15]\n",
    "print(START, \"--\", END)\n",
    "INTERVAL = TSF[(TSF.index.get_level_values(\"date\") > START) & (TSF.index.get_level_values(\"date\") <= END)]\n",
    "DF = format_ts(INTERVAL, START, END, SAMPLE_FREQUENCY, flatten=True, normalize=False)\n",
    "\n",
    "SVD_COMPONENTS = TruncatedSVD(n_components=DF.shape[1]-1).fit(DF).explained_variance_ratio_.cumsum()\n",
    "PCA_COMPONENTS = PCA().fit(DF).explained_variance_ratio_.cumsum()\n",
    "NORM_SVD_COMPONENTS = TruncatedSVD(n_components=DF.shape[1]-1).fit(scale(DF)).explained_variance_ratio_.cumsum()\n",
    "NORM_PCA_COMPONENTS = PCA().fit(scale(DF)).explained_variance_ratio_.cumsum()"
   ]
  },
  {
   "cell_type": "code",
   "execution_count": null,
   "metadata": {},
   "outputs": [],
   "source": [
    "plt.figure(figsize=(14,6))\n",
    "plt.plot(SVD_COMPONENTS, label=\"SVD\", linestyle=\"--\")\n",
    "#plt.show()\n",
    "plt.plot(PCA_COMPONENTS, label=\"PCA\", linestyle=\":\")\n",
    "#plt.show()\n",
    "plt.plot(NORM_SVD_COMPONENTS, label=\"SVD_NORM\", linestyle=\"--\")\n",
    "#plt.show()\n",
    "plt.plot(NORM_PCA_COMPONENTS, label=\"PCA_NORM\", linestyle=\":\")\n",
    "plt.legend()\n",
    "plt.show()"
   ]
  },
  {
   "cell_type": "markdown",
   "metadata": {},
   "source": [
    "# TSNE/SVD Visualization\n",
    "A visual comparison between store segmentation and auto segmentation."
   ]
  },
  {
   "cell_type": "code",
   "execution_count": null,
   "metadata": {
    "tags": []
   },
   "outputs": [],
   "source": [
    "from sklearn.metrics import silhouette_score, silhouette_samples\n",
    "def silhouette_clusters(distance_matrix, labels, metric=\"precomputed\"):\n",
    "    sample_sil_score = silhouette_samples(distance_matrix, labels, metric=metric)\n",
    "    label_sil_score = pd.DataFrame(np.stack((labels, sample_sil_score), axis=1), columns=[\"Label\", \"Score\"])\n",
    "    label_sil_score = label_sil_score.groupby(\"Label\").mean()\n",
    "    return label_sil_score\n",
    "\n",
    "# STORE_SIL_SCORE = silhouette_clusters(squareform(DIST), STORE_LABELS)\n",
    "# STORE_SIL_SCORE.rename(index=STORE_ID_TO_NAME, inplace=True)\n",
    "# STORE_SIL_SCORE.sort_values(\"Score\", ascending=False)"
   ]
  },
  {
   "cell_type": "code",
   "execution_count": null,
   "metadata": {
    "tags": []
   },
   "outputs": [],
   "source": [
    "from sklearn.decomposition import PCA, TruncatedSVD\n",
    "from sklearn.manifold import TSNE\n",
    "from sklearn.preprocessing import scale\n",
    "from scipy.cluster.hierarchy import linkage, fcluster, dendrogram, cophenet\n",
    "from mpl_toolkits.mplot3d import Axes3D\n",
    "import mayavi.mlab as myalab\n",
    "\n",
    "SAMPLE_FREQUENCY = \"3H0min\"\n",
    "START, END = get_intervals(TSF, pd.Timedelta(7, unit=\"D\"))[0]\n",
    "print(START, \"--\", END)\n",
    "INTERVAL = TSF[(TSF.index.get_level_values(\"date\") > START) & (TSF.index.get_level_values(\"date\") <= END)]\n",
    "print(\"Raw data sparsity\", sparsity_coefficient(INTERVAL))\n",
    "N_STORES = INTERVAL.index.get_level_values(\"store_id\").nunique()\n",
    "print(\"N_STORES:\", N_STORES)\n",
    "N_DEVICES = INTERVAL.index.get_level_values(\"device_id\").nunique()\n",
    "DF = format_ts(INTERVAL, START, END, SAMPLE_FREQUENCY, flatten=True, normalize=True)\n",
    "print(\"Formatted data sparsity\", sparsity_coefficient(DF))\n",
    "STORE_COLOR_MAP_2 = DF.index.get_level_values(\"store_id\")\n",
    "\n",
    "#DF = scale(DF)\n",
    "print(\"Normalized data sparsity\", sparsity_coefficient(DF))\n",
    "\n",
    "SVD_COMPONENTS = TruncatedSVD(n_components=50).fit_transform(DF)\n",
    "print(\"SVD sparsity\", sparsity_coefficient(SVD_COMPONENTS))\n",
    "#SVD_COMPONENTS -= SVD_COMPONENTS.min()\n",
    "#SVD_COMPONENTS /= SVD_COMPONENTS.max()\n",
    "\n",
    "PCA_COMPONENTS_10D = PCA(n_components=10).fit_transform(SVD_COMPONENTS)\n",
    "PCA_COMPONENTS_3D = PCA(n_components=2).fit_transform(SVD_COMPONENTS)\n",
    "PCA_COMPONENTS_3D -= PCA_COMPONENTS_3D.min()\n",
    "PCA_COMPONENTS_3D /= PCA_COMPONENTS_3D.max()\n",
    "TSNE_3D = TSNE(n_components=2, perplexity=10, learning_rate=200, n_iter=10000, n_iter_without_progress=500, verbose=2, n_jobs=-1).fit_transform(PCA_COMPONENTS_10D)\n",
    "TSNE_3D -= TSNE_3D.min()\n",
    "TSNE_3D /= TSNE_3D.max()\n",
    "\n",
    "NUMBER_OF_COLORS = 8"
   ]
  },
  {
   "cell_type": "markdown",
   "metadata": {},
   "source": [
    "## 2D"
   ]
  },
  {
   "cell_type": "code",
   "execution_count": null,
   "metadata": {
    "tags": []
   },
   "outputs": [],
   "source": [
    "DIST = pdist(DF, metric=\"euclidean\")\n",
    "LINK = linkage(DIST, method=\"ward\")\n",
    "CLUST = fcluster(LINK, t=7, criterion=\"maxclust\").astype(\"float64\")\n",
    "# NUMBER_OF_COLORS = 21\n",
    "# START_CLUST = 0\n",
    "# CLUST_COLOR_MAP = np.copy(CLUST)\n",
    "# CLUST_COLOR_MAP[(CLUST_COLOR_MAP < START_CLUST) | (CLUST_COLOR_MAP > START_CLUST+NUMBER_OF_COLORS-1)] = 0.0\n",
    "# CLUST_COLOR_MAP[CLUST_COLOR_MAP > 0] -= (START_CLUST-1)\n",
    "# CLUST_COLOR_MAP -= CLUST_COLOR_MAP.min()\n",
    "# CLUST_COLOR_MAP /= CLUST_COLOR_MAP.max()\n",
    "\n",
    "STORE_SIL_SCORE = silhouette_clusters(squareform(DIST), CLUST).mean()\n",
    "print(STORE_SIL_SCORE)\n",
    "\n",
    "CLUST_COLOR_MAP = pd.DataFrame(np.copy(CLUST))\n",
    "CLUST_COLOR_MAP[~(CLUST_COLOR_MAP.isin(range(-1,20)))] = 0.0\n",
    "CLUST_COLOR_MAP = CLUST_COLOR_MAP.values.T[0]\n",
    "print(CLUST_COLOR_MAP.min())\n",
    "CLUST_COLOR_MAP -= CLUST_COLOR_MAP.min()\n",
    "print(CLUST_COLOR_MAP.max())\n",
    "CLUST_COLOR_MAP = CLUST_COLOR_MAP/CLUST_COLOR_MAP.max()\n",
    "\n",
    "plt.figure(figsize=(18,15))\n",
    "plt.scatter(TSNE_3D.T[0].T, TSNE_3D.T[1].T, c=CLUST_COLOR_MAP, cmap=\"tab20\")\n",
    "plt.colorbar(orientation=\"vertical\")\n",
    "plt.axis('off')\n",
    "plt.title(\"Clusters \"+\"n=\"+str(125)+\" (showing 19)\", size=20)\n",
    "plt.show()"
   ]
  },
  {
   "cell_type": "code",
   "execution_count": null,
   "metadata": {
    "tags": []
   },
   "outputs": [],
   "source": [
    "STORE_LABELS = INTERVAL.index[~INTERVAL.index.get_level_values(\"device_id\").duplicated()].get_level_values(\"store_id\").astype(\"float64\").values\n",
    "# START_COLOR = 50\n",
    "# STORE_COLOR_MAP = np.copy(STORE_LABELS)\n",
    "# STORE_COLOR_MAP[(STORE_COLOR_MAP < START_COLOR) | (STORE_COLOR_MAP > START_COLOR+NUMBER_OF_COLORS-1)] = 0.0\n",
    "# STORE_COLOR_MAP[STORE_COLOR_MAP > 0] -= (START_COLOR-1)\n",
    "# STORE_COLOR_MAP -= STORE_COLOR_MAP.min()\n",
    "# STORE_COLOR_MAP /= STORE_COLOR_MAP.max()\n",
    "\n",
    "STORE_SIL_SCORE = silhouette_clusters(squareform(DIST), STORE_LABELS)\n",
    "STORE_SIL_SCORE.sort_values(\"Score\", ascending=False, inplace=True)\n",
    "TOP_DICT = {old:(new+1) for new, old in enumerate(STORE_SIL_SCORE.iloc[np.r_[0:4, -4:-0]].index.values)}\n",
    "STORE_COLOR_MAP = pd.DataFrame(np.copy(STORE_LABELS))\n",
    "\n",
    "STORE_COLOR_MAP[~(STORE_COLOR_MAP.isin(TOP_DICT.keys()))] = 0.0\n",
    "STORE_COLOR_MAP.replace({0: TOP_DICT}, inplace=True)\n",
    "STORE_COLOR_MAP = STORE_COLOR_MAP.values.T[0]\n",
    "STORE_COLOR_MAP -= STORE_COLOR_MAP.min()\n",
    "STORE_COLOR_MAP /= STORE_COLOR_MAP.max()\n",
    "\n",
    "STORE_SIL_SCORE.rename(index=STORE_ID_TO_NAME, inplace=True)\n",
    "print(STORE_SIL_SCORE.mean())\n",
    "\n",
    "plt.figure(figsize=(18,15))\n",
    "plt.scatter(TSNE_3D.T[0].T, TSNE_3D.T[1].T, c=STORE_COLOR_MAP, cmap=\"Set1_r\")\n",
    "plt.colorbar(orientation=\"vertical\")\n",
    "plt.axis('off')\n",
    "plt.title(\"Stores \"+\"n=\"+str(N_STORES)+\" (showing 8)\", size=20)\n",
    "plt.show()\n",
    "\n",
    "STORE_SIL_SCORE.index.set_names(['Store'], inplace=True)\n",
    "\n",
    "ax = sns.heatmap(STORE_SIL_SCORE.iloc[np.r_[0:4, -4:-0]], cmap=sns.cm.rocket_r, annot=True, fmt=\".4g\")\n",
    "ax.xaxis.tick_top()\n",
    "ax.xaxis.set_label_position(\"top\")\n",
    "ax.yaxis.label.set_size(16)\n",
    "ax.set_title(\"Store Silhouette Score\", fontsize=24)\n",
    "#ax.text(0.5, -0.05, \"Cophonetic Correlation Score (higher is better)\\nSample frequency: 1 hour,    Interval length: 1 week,    Number of intervals: 8\", verticalalignment=\"bottom\", horizontalalignment=\"center\", transform=ax.transAxes, fontsize=12)\n",
    "plt.show()"
   ]
  },
  {
   "cell_type": "code",
   "execution_count": null,
   "metadata": {},
   "outputs": [],
   "source": [
    "STORE_DIST = pdist(TSNE_3D, metric=\"euclidean\")\n",
    "STORE_SIL_SCORE = silhouette_clusters(squareform(STORE_DIST), STORE_LABELS)\n",
    "#STORE_SIL_SCORE.rename(index=STORE_ID_TO_NAME, inplace=True)\n",
    "STORE_SIL_SCORE.sort_values(\"Score\", ascending=False).iloc[np.r_[:5,-5:0]].index.values"
   ]
  },
  {
   "cell_type": "markdown",
   "metadata": {},
   "source": [
    "## 3D"
   ]
  },
  {
   "cell_type": "code",
   "execution_count": null,
   "metadata": {},
   "outputs": [],
   "source": [
    "DIST = pdist(SVD_COMPONENTS, metric=\"euclidean\")\n",
    "LINK = linkage(DIST, method=\"complete\")\n",
    "CLUST = fcluster(LINK, t=N_STORES, criterion=\"maxclust\").astype(\"float64\")\n",
    "START_CLUST = 0\n",
    "CLUST_COLOR_MAP = np.copy(CLUST)\n",
    "CLUST_COLOR_MAP[(CLUST_COLOR_MAP < START_CLUST) | (CLUST_COLOR_MAP > START_CLUST+NUMBER_OF_COLORS-1)] = 0.0\n",
    "CLUST_COLOR_MAP[CLUST_COLOR_MAP > 0] -= (START_CLUST-1)\n",
    "CLUST_COLOR_MAP -= CLUST_COLOR_MAP.min()\n",
    "CLUST_COLOR_MAP /= CLUST_COLOR_MAP.max()\n",
    "\n",
    "#nodes = myalab.points3d(TSNE_3D.T[0].T, TSNE_3D.T[1].T, TSNE_3D.T[2].T, scale_factor=0.01, colormap=\"Vega10\")\n",
    "nodes = myalab.points3d(PCA_COMPONENTS_3D.T[0].T, PCA_COMPONENTS_3D.T[1].T, PCA_COMPONENTS_3D.T[2].T, scale_factor=0.01, colormap=\"Vega10\")\n",
    "nodes.glyph.scale_mode = 'scale_by_vector'\n",
    "nodes.mlab_source.dataset.point_data.scalars = list(CLUST_COLOR_MAP)\n",
    "myalab.show()"
   ]
  },
  {
   "cell_type": "code",
   "execution_count": null,
   "metadata": {
    "tags": []
   },
   "outputs": [],
   "source": [
    "STORE_LABELS = INTERVAL.index[~INTERVAL.index.get_level_values(\"device_id\").duplicated()].get_level_values(\"store_id\").astype(\"float64\").values\n",
    "START_COLOR = 50\n",
    "STORE_COLOR_MAP = np.copy(STORE_LABELS)\n",
    "STORE_COLOR_MAP[(STORE_COLOR_MAP < START_COLOR) | (STORE_COLOR_MAP > START_COLOR+NUMBER_OF_COLORS-1)] = 0.0\n",
    "STORE_COLOR_MAP[STORE_COLOR_MAP > 0] -= (START_COLOR-1)\n",
    "STORE_COLOR_MAP -= STORE_COLOR_MAP.min()\n",
    "STORE_COLOR_MAP /= STORE_COLOR_MAP.max()\n",
    "\n",
    "#nodes = myalab.points3d(TSNE_3D.T[0].T, TSNE_3D.T[1].T, TSNE_3D.T[2].T, scale_factor=0.01, colormap=\"Vega10\")\n",
    "nodes = myalab.points3d(PCA_COMPONENTS_3D.T[0].T, PCA_COMPONENTS_3D.T[1].T, PCA_COMPONENTS_3D.T[2].T, scale_factor=0.01, colormap=\"Vega10\")\n",
    "nodes.glyph.scale_mode = 'scale_by_vector'\n",
    "nodes.mlab_source.dataset.point_data.scalars = list(STORE_COLOR_MAP)\n",
    "myalab.show()"
   ]
  },
  {
   "cell_type": "markdown",
   "metadata": {},
   "source": [
    "# Example Visualizations"
   ]
  },
  {
   "cell_type": "code",
   "execution_count": null,
   "metadata": {
    "tags": []
   },
   "outputs": [],
   "source": [
    "# Silhoutte score explained\n",
    "def gauss_2d(center, sigma, n_points):\n",
    "    return np.random.multivariate_normal(center, ((sigma,0), (0, sigma)), n_points).T\n",
    "\n",
    "def plot_gauss_clusters(clusters, axis_limits, title=\"\"):\n",
    "    markers = [\"o\", \"v\", \"s\", \"^\"]\n",
    "    plt.figure(figsize=(7,6))\n",
    "    plt.title(title)\n",
    "    plt.xlim(*axis_limits)\n",
    "    plt.ylim(*axis_limits)\n",
    "    for i, (x, y) in enumerate(clusters):\n",
    "        plt.scatter(x, y, label=\"Cluster \"+str(i+1), marker=markers[i%4])\n",
    "    plt.legend()\n",
    "    plt.axis('off')        \n",
    "    plt.show()\n",
    "\n",
    "def synth_silhouette(clusters):\n",
    "    arr = np.array([(i, x, y) for i, cluster in enumerate(clusters) for x, y in cluster.T])\n",
    "    df =  pd.DataFrame(arr, columns=[\"label\", \"x\", \"y\"])\n",
    "    dist = pdist(df[[\"x\", \"y\"]], metric=\"euclidean\")\n",
    "    return silhouette_score(squareform(dist), df[\"label\"])\n",
    "\n",
    "CLUSTERS = [gauss_2d((5.5,5.5), 0.02, 80), gauss_2d((5,4.5), 0.02, 80), gauss_2d((4.5,5.5), 0.02, 80)]\n",
    "plot_gauss_clusters(CLUSTERS, (4,6), \"Possitive Silhoutte Score\")\n",
    "print(synth_silhouette(CLUSTERS))\n",
    "\n",
    "CLUSTERS = [gauss_2d((5.1,5.1), 0.3, 80), gauss_2d((5,4.6), 0.3, 80), gauss_2d((4.6,5.1), 0.3, 80)]\n",
    "plot_gauss_clusters(CLUSTERS, (3,7), \"Zero Silhoutte Score\")\n",
    "print(synth_silhouette(CLUSTERS))\n",
    "\n",
    "CLUST_1 = np.concatenate([gauss_2d((5.5,5.5), 0.02, 20), gauss_2d((5,4.5), 0.02, 20), gauss_2d((4.5,5.5), 0.02, 20)], axis=1)\n",
    "CLUST_2 = np.concatenate([gauss_2d((5.5,5.5), 0.02, 20), gauss_2d((5,4.5), 0.02, 20), gauss_2d((4.5,5.5), 0.02, 20)], axis=1)\n",
    "CLUST_3 = np.concatenate([gauss_2d((5.5,5.5), 0.02, 20), gauss_2d((5,4.5), 0.02, 20), gauss_2d((4.5,5.5), 0.02, 20)], axis=1)\n",
    "CLUSTERS = [CLUST_1, CLUST_2, CLUST_3]\n",
    "plot_gauss_clusters(CLUSTERS, (4,6), \"Negative Silhoutte Score\")\n",
    "print(synth_silhouette(CLUSTERS))"
   ]
  },
  {
   "cell_type": "code",
   "execution_count": null,
   "metadata": {
    "tags": []
   },
   "outputs": [],
   "source": [
    "import matplotlib.dates as mdates\n",
    "\n",
    "#Example plot of kiosk MVTS\n",
    "SAMPLE_FREQUENCY = \"1H0min\"\n",
    "START, END = get_intervals(TSF, pd.Timedelta(2, unit=\"D\"))[2]\n",
    "print(START, \"--\", END)\n",
    "INTERVAL = TSF[(TSF.index.get_level_values(\"date\") > START) & (TSF.index.get_level_values(\"date\") <= END)]\n",
    "DF = format_ts(INTERVAL, START, END, SAMPLE_FREQUENCY, flatten=False, normalize=True)\n",
    "DF = DF.xs(\"AwfulPerseveringIncome\", level=\"device_id\")\n",
    "TIME_VAL = list(DF.index.get_level_values(\"date\"))\n",
    "plt.figure(figsize=(14,6))\n",
    "ax = plt.gca()\n",
    "yearFmt = mdates.DateFormatter(\"%H:%M\")\n",
    "\n",
    "DF.unstack(level=0).plot(y=[\"product_256\"], ax=ax, label=[\"Kids meal\"], linestyle=\"--\")\n",
    "DF.unstack(level=0).plot(y=[\"product_144\"], ax=ax, label=[\"Chili cheese\"], linestyle=\"-.\")\n",
    "DF.unstack(level=0).plot(y=[\"product_394\"], ax=ax, label=[\"Smokey Chipotle Chicken Menu\"], linestyle=\":\")\n",
    "DF.unstack(level=0).plot(y=[\"average_price\"], ax=ax, label=[\"Average Purchase Value\"])\n",
    "plt.xlabel(\"Time\")\n",
    "plt.ylabel(\"Normalized Values (0,1)\")\n",
    "ax.xaxis.set_major_formatter(yearFmt)\n",
    "xticks = ax.xaxis.get_major_ticks()\n",
    "xticks[0].label1.set_visible(False)\n",
    "xticks[-1].label1.set_visible(False)\n",
    "plt.show()\n",
    "\n",
    "plt.figure(figsize=(14,6))\n",
    "ax = plt.gca()\n",
    "DF.unstack(level=0).plot(ax=ax)\n",
    "plt.xlabel(\"Time\")\n",
    "plt.ylabel(\"Normalized Values (0,1)\")\n",
    "ax.xaxis.set_major_formatter(yearFmt)\n",
    "xticks = ax.xaxis.get_major_ticks()\n",
    "xticks[0].label1.set_visible(False)\n",
    "xticks[-1].label1.set_visible(False)\n",
    "plt.legend().remove()\n",
    "plt.show()"
   ]
  },
  {
   "cell_type": "markdown",
   "metadata": {},
   "source": [
    "# Forecasting"
   ]
  },
  {
   "cell_type": "code",
   "execution_count": 26,
   "metadata": {
    "tags": []
   },
   "outputs": [],
   "source": [
    "start, end = get_intervals(TSF, pd.Timedelta(8, unit=\"W\"))[0]\n",
    "\n",
    "window = TSF[(TSF.index.get_level_values(\"date\") > start) & (TSF.index.get_level_values(\"date\") <= end)]\n",
    "formatted_window = format_ts(window, start, end, \"24H\", [], flatten=False, normalize=False)\n",
    "grp = formatted_window.groupby(level=\"device_id\")"
   ]
  },
  {
   "cell_type": "code",
   "execution_count": 302,
   "metadata": {
    "tags": []
   },
   "outputs": [
    {
     "output_type": "display_data",
     "data": {
      "text/plain": "<Figure size 432x288 with 1 Axes>",
      "image/svg+xml": "<?xml version=\"1.0\" encoding=\"utf-8\" standalone=\"no\"?>\r\n<!DOCTYPE svg PUBLIC \"-//W3C//DTD SVG 1.1//EN\"\r\n  \"http://www.w3.org/Graphics/SVG/1.1/DTD/svg11.dtd\">\r\n<!-- Created with matplotlib (https://matplotlib.org/) -->\r\n<svg height=\"248.518125pt\" version=\"1.1\" viewBox=\"0 0 368.925 248.518125\" width=\"368.925pt\" xmlns=\"http://www.w3.org/2000/svg\" xmlns:xlink=\"http://www.w3.org/1999/xlink\">\r\n <defs>\r\n  <style type=\"text/css\">\r\n*{stroke-linecap:butt;stroke-linejoin:round;}\r\n  </style>\r\n </defs>\r\n <g id=\"figure_1\">\r\n  <g id=\"patch_1\">\r\n   <path d=\"M -0 248.518125 \r\nL 368.925 248.518125 \r\nL 368.925 0 \r\nL -0 0 \r\nz\r\n\" style=\"fill:none;\"/>\r\n  </g>\r\n  <g id=\"axes_1\">\r\n   <g id=\"patch_2\">\r\n    <path d=\"M 26.925 224.64 \r\nL 361.725 224.64 \r\nL 361.725 7.2 \r\nL 26.925 7.2 \r\nz\r\n\" style=\"fill:#ffffff;\"/>\r\n   </g>\r\n   <g id=\"matplotlib.axis_1\">\r\n    <g id=\"xtick_1\">\r\n     <g id=\"line2d_1\">\r\n      <defs>\r\n       <path d=\"M 0 0 \r\nL 0 3.5 \r\n\" id=\"m9b3c86de77\" style=\"stroke:#000000;stroke-width:0.8;\"/>\r\n      </defs>\r\n      <g>\r\n       <use style=\"stroke:#000000;stroke-width:0.8;\" x=\"42.143182\" xlink:href=\"#m9b3c86de77\" y=\"224.64\"/>\r\n      </g>\r\n     </g>\r\n     <g id=\"text_1\">\r\n      <!-- 2020-01-01 -->\r\n      <defs>\r\n       <path d=\"M 19.1875 8.296875 \r\nL 53.609375 8.296875 \r\nL 53.609375 0 \r\nL 7.328125 0 \r\nL 7.328125 8.296875 \r\nQ 12.9375 14.109375 22.625 23.890625 \r\nQ 32.328125 33.6875 34.8125 36.53125 \r\nQ 39.546875 41.84375 41.421875 45.53125 \r\nQ 43.3125 49.21875 43.3125 52.78125 \r\nQ 43.3125 58.59375 39.234375 62.25 \r\nQ 35.15625 65.921875 28.609375 65.921875 \r\nQ 23.96875 65.921875 18.8125 64.3125 \r\nQ 13.671875 62.703125 7.8125 59.421875 \r\nL 7.8125 69.390625 \r\nQ 13.765625 71.78125 18.9375 73 \r\nQ 24.125 74.21875 28.421875 74.21875 \r\nQ 39.75 74.21875 46.484375 68.546875 \r\nQ 53.21875 62.890625 53.21875 53.421875 \r\nQ 53.21875 48.921875 51.53125 44.890625 \r\nQ 49.859375 40.875 45.40625 35.40625 \r\nQ 44.1875 33.984375 37.640625 27.21875 \r\nQ 31.109375 20.453125 19.1875 8.296875 \r\nz\r\n\" id=\"DejaVuSans-50\"/>\r\n       <path d=\"M 31.78125 66.40625 \r\nQ 24.171875 66.40625 20.328125 58.90625 \r\nQ 16.5 51.421875 16.5 36.375 \r\nQ 16.5 21.390625 20.328125 13.890625 \r\nQ 24.171875 6.390625 31.78125 6.390625 \r\nQ 39.453125 6.390625 43.28125 13.890625 \r\nQ 47.125 21.390625 47.125 36.375 \r\nQ 47.125 51.421875 43.28125 58.90625 \r\nQ 39.453125 66.40625 31.78125 66.40625 \r\nz\r\nM 31.78125 74.21875 \r\nQ 44.046875 74.21875 50.515625 64.515625 \r\nQ 56.984375 54.828125 56.984375 36.375 \r\nQ 56.984375 17.96875 50.515625 8.265625 \r\nQ 44.046875 -1.421875 31.78125 -1.421875 \r\nQ 19.53125 -1.421875 13.0625 8.265625 \r\nQ 6.59375 17.96875 6.59375 36.375 \r\nQ 6.59375 54.828125 13.0625 64.515625 \r\nQ 19.53125 74.21875 31.78125 74.21875 \r\nz\r\n\" id=\"DejaVuSans-48\"/>\r\n       <path d=\"M 4.890625 31.390625 \r\nL 31.203125 31.390625 \r\nL 31.203125 23.390625 \r\nL 4.890625 23.390625 \r\nz\r\n\" id=\"DejaVuSans-45\"/>\r\n       <path d=\"M 12.40625 8.296875 \r\nL 28.515625 8.296875 \r\nL 28.515625 63.921875 \r\nL 10.984375 60.40625 \r\nL 10.984375 69.390625 \r\nL 28.421875 72.90625 \r\nL 38.28125 72.90625 \r\nL 38.28125 8.296875 \r\nL 54.390625 8.296875 \r\nL 54.390625 0 \r\nL 12.40625 0 \r\nz\r\n\" id=\"DejaVuSans-49\"/>\r\n      </defs>\r\n      <g transform=\"translate(13.085369 239.238437)scale(0.1 -0.1)\">\r\n       <use xlink:href=\"#DejaVuSans-50\"/>\r\n       <use x=\"63.623047\" xlink:href=\"#DejaVuSans-48\"/>\r\n       <use x=\"127.246094\" xlink:href=\"#DejaVuSans-50\"/>\r\n       <use x=\"190.869141\" xlink:href=\"#DejaVuSans-48\"/>\r\n       <use x=\"254.492188\" xlink:href=\"#DejaVuSans-45\"/>\r\n       <use x=\"290.576172\" xlink:href=\"#DejaVuSans-48\"/>\r\n       <use x=\"354.199219\" xlink:href=\"#DejaVuSans-49\"/>\r\n       <use x=\"417.822266\" xlink:href=\"#DejaVuSans-45\"/>\r\n       <use x=\"453.90625\" xlink:href=\"#DejaVuSans-48\"/>\r\n       <use x=\"517.529297\" xlink:href=\"#DejaVuSans-49\"/>\r\n      </g>\r\n     </g>\r\n    </g>\r\n    <g id=\"xtick_2\">\r\n     <g id=\"line2d_2\">\r\n      <g>\r\n       <use style=\"stroke:#000000;stroke-width:0.8;\" x=\"85.623701\" xlink:href=\"#m9b3c86de77\" y=\"224.64\"/>\r\n      </g>\r\n     </g>\r\n     <g id=\"text_2\">\r\n      <!-- 2020-01-08 -->\r\n      <defs>\r\n       <path d=\"M 31.78125 34.625 \r\nQ 24.75 34.625 20.71875 30.859375 \r\nQ 16.703125 27.09375 16.703125 20.515625 \r\nQ 16.703125 13.921875 20.71875 10.15625 \r\nQ 24.75 6.390625 31.78125 6.390625 \r\nQ 38.8125 6.390625 42.859375 10.171875 \r\nQ 46.921875 13.96875 46.921875 20.515625 \r\nQ 46.921875 27.09375 42.890625 30.859375 \r\nQ 38.875 34.625 31.78125 34.625 \r\nz\r\nM 21.921875 38.8125 \r\nQ 15.578125 40.375 12.03125 44.71875 \r\nQ 8.5 49.078125 8.5 55.328125 \r\nQ 8.5 64.0625 14.71875 69.140625 \r\nQ 20.953125 74.21875 31.78125 74.21875 \r\nQ 42.671875 74.21875 48.875 69.140625 \r\nQ 55.078125 64.0625 55.078125 55.328125 \r\nQ 55.078125 49.078125 51.53125 44.71875 \r\nQ 48 40.375 41.703125 38.8125 \r\nQ 48.828125 37.15625 52.796875 32.3125 \r\nQ 56.78125 27.484375 56.78125 20.515625 \r\nQ 56.78125 9.90625 50.3125 4.234375 \r\nQ 43.84375 -1.421875 31.78125 -1.421875 \r\nQ 19.734375 -1.421875 13.25 4.234375 \r\nQ 6.78125 9.90625 6.78125 20.515625 \r\nQ 6.78125 27.484375 10.78125 32.3125 \r\nQ 14.796875 37.15625 21.921875 38.8125 \r\nz\r\nM 18.3125 54.390625 \r\nQ 18.3125 48.734375 21.84375 45.5625 \r\nQ 25.390625 42.390625 31.78125 42.390625 \r\nQ 38.140625 42.390625 41.71875 45.5625 \r\nQ 45.3125 48.734375 45.3125 54.390625 \r\nQ 45.3125 60.0625 41.71875 63.234375 \r\nQ 38.140625 66.40625 31.78125 66.40625 \r\nQ 25.390625 66.40625 21.84375 63.234375 \r\nQ 18.3125 60.0625 18.3125 54.390625 \r\nz\r\n\" id=\"DejaVuSans-56\"/>\r\n      </defs>\r\n      <g transform=\"translate(56.565889 239.238437)scale(0.1 -0.1)\">\r\n       <use xlink:href=\"#DejaVuSans-50\"/>\r\n       <use x=\"63.623047\" xlink:href=\"#DejaVuSans-48\"/>\r\n       <use x=\"127.246094\" xlink:href=\"#DejaVuSans-50\"/>\r\n       <use x=\"190.869141\" xlink:href=\"#DejaVuSans-48\"/>\r\n       <use x=\"254.492188\" xlink:href=\"#DejaVuSans-45\"/>\r\n       <use x=\"290.576172\" xlink:href=\"#DejaVuSans-48\"/>\r\n       <use x=\"354.199219\" xlink:href=\"#DejaVuSans-49\"/>\r\n       <use x=\"417.822266\" xlink:href=\"#DejaVuSans-45\"/>\r\n       <use x=\"453.90625\" xlink:href=\"#DejaVuSans-48\"/>\r\n       <use x=\"517.529297\" xlink:href=\"#DejaVuSans-56\"/>\r\n      </g>\r\n     </g>\r\n    </g>\r\n    <g id=\"xtick_3\">\r\n     <g id=\"line2d_3\">\r\n      <g>\r\n       <use style=\"stroke:#000000;stroke-width:0.8;\" x=\"129.104221\" xlink:href=\"#m9b3c86de77\" y=\"224.64\"/>\r\n      </g>\r\n     </g>\r\n     <g id=\"text_3\">\r\n      <!-- 2020-01-15 -->\r\n      <defs>\r\n       <path d=\"M 10.796875 72.90625 \r\nL 49.515625 72.90625 \r\nL 49.515625 64.59375 \r\nL 19.828125 64.59375 \r\nL 19.828125 46.734375 \r\nQ 21.96875 47.46875 24.109375 47.828125 \r\nQ 26.265625 48.1875 28.421875 48.1875 \r\nQ 40.625 48.1875 47.75 41.5 \r\nQ 54.890625 34.8125 54.890625 23.390625 \r\nQ 54.890625 11.625 47.5625 5.09375 \r\nQ 40.234375 -1.421875 26.90625 -1.421875 \r\nQ 22.3125 -1.421875 17.546875 -0.640625 \r\nQ 12.796875 0.140625 7.71875 1.703125 \r\nL 7.71875 11.625 \r\nQ 12.109375 9.234375 16.796875 8.0625 \r\nQ 21.484375 6.890625 26.703125 6.890625 \r\nQ 35.15625 6.890625 40.078125 11.328125 \r\nQ 45.015625 15.765625 45.015625 23.390625 \r\nQ 45.015625 31 40.078125 35.4375 \r\nQ 35.15625 39.890625 26.703125 39.890625 \r\nQ 22.75 39.890625 18.8125 39.015625 \r\nQ 14.890625 38.140625 10.796875 36.28125 \r\nz\r\n\" id=\"DejaVuSans-53\"/>\r\n      </defs>\r\n      <g transform=\"translate(100.046408 239.238437)scale(0.1 -0.1)\">\r\n       <use xlink:href=\"#DejaVuSans-50\"/>\r\n       <use x=\"63.623047\" xlink:href=\"#DejaVuSans-48\"/>\r\n       <use x=\"127.246094\" xlink:href=\"#DejaVuSans-50\"/>\r\n       <use x=\"190.869141\" xlink:href=\"#DejaVuSans-48\"/>\r\n       <use x=\"254.492188\" xlink:href=\"#DejaVuSans-45\"/>\r\n       <use x=\"290.576172\" xlink:href=\"#DejaVuSans-48\"/>\r\n       <use x=\"354.199219\" xlink:href=\"#DejaVuSans-49\"/>\r\n       <use x=\"417.822266\" xlink:href=\"#DejaVuSans-45\"/>\r\n       <use x=\"453.90625\" xlink:href=\"#DejaVuSans-49\"/>\r\n       <use x=\"517.529297\" xlink:href=\"#DejaVuSans-53\"/>\r\n      </g>\r\n     </g>\r\n    </g>\r\n    <g id=\"xtick_4\">\r\n     <g id=\"line2d_4\">\r\n      <g>\r\n       <use style=\"stroke:#000000;stroke-width:0.8;\" x=\"172.58474\" xlink:href=\"#m9b3c86de77\" y=\"224.64\"/>\r\n      </g>\r\n     </g>\r\n     <g id=\"text_4\">\r\n      <!-- 2020-01-22 -->\r\n      <g transform=\"translate(143.526928 239.238437)scale(0.1 -0.1)\">\r\n       <use xlink:href=\"#DejaVuSans-50\"/>\r\n       <use x=\"63.623047\" xlink:href=\"#DejaVuSans-48\"/>\r\n       <use x=\"127.246094\" xlink:href=\"#DejaVuSans-50\"/>\r\n       <use x=\"190.869141\" xlink:href=\"#DejaVuSans-48\"/>\r\n       <use x=\"254.492188\" xlink:href=\"#DejaVuSans-45\"/>\r\n       <use x=\"290.576172\" xlink:href=\"#DejaVuSans-48\"/>\r\n       <use x=\"354.199219\" xlink:href=\"#DejaVuSans-49\"/>\r\n       <use x=\"417.822266\" xlink:href=\"#DejaVuSans-45\"/>\r\n       <use x=\"453.90625\" xlink:href=\"#DejaVuSans-50\"/>\r\n       <use x=\"517.529297\" xlink:href=\"#DejaVuSans-50\"/>\r\n      </g>\r\n     </g>\r\n    </g>\r\n    <g id=\"xtick_5\">\r\n     <g id=\"line2d_5\">\r\n      <g>\r\n       <use style=\"stroke:#000000;stroke-width:0.8;\" x=\"234.699768\" xlink:href=\"#m9b3c86de77\" y=\"224.64\"/>\r\n      </g>\r\n     </g>\r\n     <g id=\"text_5\">\r\n      <!-- 2020-02-01 -->\r\n      <g transform=\"translate(205.641956 239.238437)scale(0.1 -0.1)\">\r\n       <use xlink:href=\"#DejaVuSans-50\"/>\r\n       <use x=\"63.623047\" xlink:href=\"#DejaVuSans-48\"/>\r\n       <use x=\"127.246094\" xlink:href=\"#DejaVuSans-50\"/>\r\n       <use x=\"190.869141\" xlink:href=\"#DejaVuSans-48\"/>\r\n       <use x=\"254.492188\" xlink:href=\"#DejaVuSans-45\"/>\r\n       <use x=\"290.576172\" xlink:href=\"#DejaVuSans-48\"/>\r\n       <use x=\"354.199219\" xlink:href=\"#DejaVuSans-50\"/>\r\n       <use x=\"417.822266\" xlink:href=\"#DejaVuSans-45\"/>\r\n       <use x=\"453.90625\" xlink:href=\"#DejaVuSans-48\"/>\r\n       <use x=\"517.529297\" xlink:href=\"#DejaVuSans-49\"/>\r\n      </g>\r\n     </g>\r\n    </g>\r\n    <g id=\"xtick_6\">\r\n     <g id=\"line2d_6\">\r\n      <g>\r\n       <use style=\"stroke:#000000;stroke-width:0.8;\" x=\"278.180288\" xlink:href=\"#m9b3c86de77\" y=\"224.64\"/>\r\n      </g>\r\n     </g>\r\n     <g id=\"text_6\">\r\n      <!-- 2020-02-08 -->\r\n      <g transform=\"translate(249.122475 239.238437)scale(0.1 -0.1)\">\r\n       <use xlink:href=\"#DejaVuSans-50\"/>\r\n       <use x=\"63.623047\" xlink:href=\"#DejaVuSans-48\"/>\r\n       <use x=\"127.246094\" xlink:href=\"#DejaVuSans-50\"/>\r\n       <use x=\"190.869141\" xlink:href=\"#DejaVuSans-48\"/>\r\n       <use x=\"254.492188\" xlink:href=\"#DejaVuSans-45\"/>\r\n       <use x=\"290.576172\" xlink:href=\"#DejaVuSans-48\"/>\r\n       <use x=\"354.199219\" xlink:href=\"#DejaVuSans-50\"/>\r\n       <use x=\"417.822266\" xlink:href=\"#DejaVuSans-45\"/>\r\n       <use x=\"453.90625\" xlink:href=\"#DejaVuSans-48\"/>\r\n       <use x=\"517.529297\" xlink:href=\"#DejaVuSans-56\"/>\r\n      </g>\r\n     </g>\r\n    </g>\r\n    <g id=\"xtick_7\">\r\n     <g id=\"line2d_7\">\r\n      <g>\r\n       <use style=\"stroke:#000000;stroke-width:0.8;\" x=\"321.660807\" xlink:href=\"#m9b3c86de77\" y=\"224.64\"/>\r\n      </g>\r\n     </g>\r\n     <g id=\"text_7\">\r\n      <!-- 2020-02-15 -->\r\n      <g transform=\"translate(292.602995 239.238437)scale(0.1 -0.1)\">\r\n       <use xlink:href=\"#DejaVuSans-50\"/>\r\n       <use x=\"63.623047\" xlink:href=\"#DejaVuSans-48\"/>\r\n       <use x=\"127.246094\" xlink:href=\"#DejaVuSans-50\"/>\r\n       <use x=\"190.869141\" xlink:href=\"#DejaVuSans-48\"/>\r\n       <use x=\"254.492188\" xlink:href=\"#DejaVuSans-45\"/>\r\n       <use x=\"290.576172\" xlink:href=\"#DejaVuSans-48\"/>\r\n       <use x=\"354.199219\" xlink:href=\"#DejaVuSans-50\"/>\r\n       <use x=\"417.822266\" xlink:href=\"#DejaVuSans-45\"/>\r\n       <use x=\"453.90625\" xlink:href=\"#DejaVuSans-49\"/>\r\n       <use x=\"517.529297\" xlink:href=\"#DejaVuSans-53\"/>\r\n      </g>\r\n     </g>\r\n    </g>\r\n   </g>\r\n   <g id=\"matplotlib.axis_2\">\r\n    <g id=\"ytick_1\">\r\n     <g id=\"line2d_8\">\r\n      <defs>\r\n       <path d=\"M 0 0 \r\nL -3.5 0 \r\n\" id=\"mb2ca26dfcd\" style=\"stroke:#000000;stroke-width:0.8;\"/>\r\n      </defs>\r\n      <g>\r\n       <use style=\"stroke:#000000;stroke-width:0.8;\" x=\"26.925\" xlink:href=\"#mb2ca26dfcd\" y=\"204.166753\"/>\r\n      </g>\r\n     </g>\r\n     <g id=\"text_8\">\r\n      <!-- 20 -->\r\n      <g transform=\"translate(7.2 207.965972)scale(0.1 -0.1)\">\r\n       <use xlink:href=\"#DejaVuSans-50\"/>\r\n       <use x=\"63.623047\" xlink:href=\"#DejaVuSans-48\"/>\r\n      </g>\r\n     </g>\r\n    </g>\r\n    <g id=\"ytick_2\">\r\n     <g id=\"line2d_9\">\r\n      <g>\r\n       <use style=\"stroke:#000000;stroke-width:0.8;\" x=\"26.925\" xlink:href=\"#mb2ca26dfcd\" y=\"168.868052\"/>\r\n      </g>\r\n     </g>\r\n     <g id=\"text_9\">\r\n      <!-- 30 -->\r\n      <defs>\r\n       <path d=\"M 40.578125 39.3125 \r\nQ 47.65625 37.796875 51.625 33 \r\nQ 55.609375 28.21875 55.609375 21.1875 \r\nQ 55.609375 10.40625 48.1875 4.484375 \r\nQ 40.765625 -1.421875 27.09375 -1.421875 \r\nQ 22.515625 -1.421875 17.65625 -0.515625 \r\nQ 12.796875 0.390625 7.625 2.203125 \r\nL 7.625 11.71875 \r\nQ 11.71875 9.328125 16.59375 8.109375 \r\nQ 21.484375 6.890625 26.8125 6.890625 \r\nQ 36.078125 6.890625 40.9375 10.546875 \r\nQ 45.796875 14.203125 45.796875 21.1875 \r\nQ 45.796875 27.640625 41.28125 31.265625 \r\nQ 36.765625 34.90625 28.71875 34.90625 \r\nL 20.21875 34.90625 \r\nL 20.21875 43.015625 \r\nL 29.109375 43.015625 \r\nQ 36.375 43.015625 40.234375 45.921875 \r\nQ 44.09375 48.828125 44.09375 54.296875 \r\nQ 44.09375 59.90625 40.109375 62.90625 \r\nQ 36.140625 65.921875 28.71875 65.921875 \r\nQ 24.65625 65.921875 20.015625 65.03125 \r\nQ 15.375 64.15625 9.8125 62.3125 \r\nL 9.8125 71.09375 \r\nQ 15.4375 72.65625 20.34375 73.4375 \r\nQ 25.25 74.21875 29.59375 74.21875 \r\nQ 40.828125 74.21875 47.359375 69.109375 \r\nQ 53.90625 64.015625 53.90625 55.328125 \r\nQ 53.90625 49.265625 50.4375 45.09375 \r\nQ 46.96875 40.921875 40.578125 39.3125 \r\nz\r\n\" id=\"DejaVuSans-51\"/>\r\n      </defs>\r\n      <g transform=\"translate(7.2 172.667271)scale(0.1 -0.1)\">\r\n       <use xlink:href=\"#DejaVuSans-51\"/>\r\n       <use x=\"63.623047\" xlink:href=\"#DejaVuSans-48\"/>\r\n      </g>\r\n     </g>\r\n    </g>\r\n    <g id=\"ytick_3\">\r\n     <g id=\"line2d_10\">\r\n      <g>\r\n       <use style=\"stroke:#000000;stroke-width:0.8;\" x=\"26.925\" xlink:href=\"#mb2ca26dfcd\" y=\"133.569351\"/>\r\n      </g>\r\n     </g>\r\n     <g id=\"text_10\">\r\n      <!-- 40 -->\r\n      <defs>\r\n       <path d=\"M 37.796875 64.3125 \r\nL 12.890625 25.390625 \r\nL 37.796875 25.390625 \r\nz\r\nM 35.203125 72.90625 \r\nL 47.609375 72.90625 \r\nL 47.609375 25.390625 \r\nL 58.015625 25.390625 \r\nL 58.015625 17.1875 \r\nL 47.609375 17.1875 \r\nL 47.609375 0 \r\nL 37.796875 0 \r\nL 37.796875 17.1875 \r\nL 4.890625 17.1875 \r\nL 4.890625 26.703125 \r\nz\r\n\" id=\"DejaVuSans-52\"/>\r\n      </defs>\r\n      <g transform=\"translate(7.2 137.368569)scale(0.1 -0.1)\">\r\n       <use xlink:href=\"#DejaVuSans-52\"/>\r\n       <use x=\"63.623047\" xlink:href=\"#DejaVuSans-48\"/>\r\n      </g>\r\n     </g>\r\n    </g>\r\n    <g id=\"ytick_4\">\r\n     <g id=\"line2d_11\">\r\n      <g>\r\n       <use style=\"stroke:#000000;stroke-width:0.8;\" x=\"26.925\" xlink:href=\"#mb2ca26dfcd\" y=\"98.270649\"/>\r\n      </g>\r\n     </g>\r\n     <g id=\"text_11\">\r\n      <!-- 50 -->\r\n      <g transform=\"translate(7.2 102.069868)scale(0.1 -0.1)\">\r\n       <use xlink:href=\"#DejaVuSans-53\"/>\r\n       <use x=\"63.623047\" xlink:href=\"#DejaVuSans-48\"/>\r\n      </g>\r\n     </g>\r\n    </g>\r\n    <g id=\"ytick_5\">\r\n     <g id=\"line2d_12\">\r\n      <g>\r\n       <use style=\"stroke:#000000;stroke-width:0.8;\" x=\"26.925\" xlink:href=\"#mb2ca26dfcd\" y=\"62.971948\"/>\r\n      </g>\r\n     </g>\r\n     <g id=\"text_12\">\r\n      <!-- 60 -->\r\n      <defs>\r\n       <path d=\"M 33.015625 40.375 \r\nQ 26.375 40.375 22.484375 35.828125 \r\nQ 18.609375 31.296875 18.609375 23.390625 \r\nQ 18.609375 15.53125 22.484375 10.953125 \r\nQ 26.375 6.390625 33.015625 6.390625 \r\nQ 39.65625 6.390625 43.53125 10.953125 \r\nQ 47.40625 15.53125 47.40625 23.390625 \r\nQ 47.40625 31.296875 43.53125 35.828125 \r\nQ 39.65625 40.375 33.015625 40.375 \r\nz\r\nM 52.59375 71.296875 \r\nL 52.59375 62.3125 \r\nQ 48.875 64.0625 45.09375 64.984375 \r\nQ 41.3125 65.921875 37.59375 65.921875 \r\nQ 27.828125 65.921875 22.671875 59.328125 \r\nQ 17.53125 52.734375 16.796875 39.40625 \r\nQ 19.671875 43.65625 24.015625 45.921875 \r\nQ 28.375 48.1875 33.59375 48.1875 \r\nQ 44.578125 48.1875 50.953125 41.515625 \r\nQ 57.328125 34.859375 57.328125 23.390625 \r\nQ 57.328125 12.15625 50.6875 5.359375 \r\nQ 44.046875 -1.421875 33.015625 -1.421875 \r\nQ 20.359375 -1.421875 13.671875 8.265625 \r\nQ 6.984375 17.96875 6.984375 36.375 \r\nQ 6.984375 53.65625 15.1875 63.9375 \r\nQ 23.390625 74.21875 37.203125 74.21875 \r\nQ 40.921875 74.21875 44.703125 73.484375 \r\nQ 48.484375 72.75 52.59375 71.296875 \r\nz\r\n\" id=\"DejaVuSans-54\"/>\r\n      </defs>\r\n      <g transform=\"translate(7.2 66.771167)scale(0.1 -0.1)\">\r\n       <use xlink:href=\"#DejaVuSans-54\"/>\r\n       <use x=\"63.623047\" xlink:href=\"#DejaVuSans-48\"/>\r\n      </g>\r\n     </g>\r\n    </g>\r\n    <g id=\"ytick_6\">\r\n     <g id=\"line2d_13\">\r\n      <g>\r\n       <use style=\"stroke:#000000;stroke-width:0.8;\" x=\"26.925\" xlink:href=\"#mb2ca26dfcd\" y=\"27.673247\"/>\r\n      </g>\r\n     </g>\r\n     <g id=\"text_13\">\r\n      <!-- 70 -->\r\n      <defs>\r\n       <path d=\"M 8.203125 72.90625 \r\nL 55.078125 72.90625 \r\nL 55.078125 68.703125 \r\nL 28.609375 0 \r\nL 18.3125 0 \r\nL 43.21875 64.59375 \r\nL 8.203125 64.59375 \r\nz\r\n\" id=\"DejaVuSans-55\"/>\r\n      </defs>\r\n      <g transform=\"translate(7.2 31.472466)scale(0.1 -0.1)\">\r\n       <use xlink:href=\"#DejaVuSans-55\"/>\r\n       <use x=\"63.623047\" xlink:href=\"#DejaVuSans-48\"/>\r\n      </g>\r\n     </g>\r\n    </g>\r\n   </g>\r\n   <g id=\"line2d_14\">\r\n    <path clip-path=\"url(#p05d2088616)\" d=\"M 42.143182 175.927792 \r\nL 48.354685 59.442078 \r\nL 54.566187 94.740779 \r\nL 60.77769 108.86026 \r\nL 66.989193 130.039481 \r\nL 73.200696 119.44987 \r\nL 79.412199 112.39013 \r\nL 85.623701 144.158961 \r\nL 91.835204 133.569351 \r\nL 98.046707 161.808312 \r\nL 104.25821 122.97974 \r\nL 110.469712 144.158961 \r\nL 116.681215 214.756364 \r\nL 122.892718 182.987532 \r\nL 129.104221 172.397922 \r\nL 135.315724 130.039481 \r\nL 141.527226 105.33039 \r\nL 147.738729 137.099221 \r\nL 153.950232 122.97974 \r\nL 160.161735 158.278442 \r\nL 166.373237 154.748571 \r\nL 172.58474 137.099221 \r\nL 178.796243 172.397922 \r\nL 185.007746 17.083636 \r\nL 191.219249 105.33039 \r\nL 197.430751 101.800519 \r\nL 203.642254 147.688831 \r\nL 209.853757 154.748571 \r\nL 216.06526 112.39013 \r\nL 222.276763 161.808312 \r\nL 228.488265 140.629091 \r\nL 234.699768 91.210909 \r\nL 240.911271 77.091429 \r\nL 247.122774 179.457662 \r\nL 253.334276 154.748571 \r\nL 259.545779 140.629091 \r\nL 265.757282 140.629091 \r\nL 271.968785 119.44987 \r\nL 278.180288 91.210909 \r\nL 284.39179 140.629091 \r\nL 290.603293 158.278442 \r\nL 296.814796 158.278442 \r\nL 303.026299 130.039481 \r\nL 309.237801 119.44987 \r\nL 315.449304 108.86026 \r\nL 321.660807 98.270649 \r\nL 327.87231 133.569351 \r\nL 334.083813 161.808312 \r\nL 340.295315 144.158961 \r\nL 346.506818 144.158961 \r\n\" style=\"fill:none;stroke:#1f77b4;stroke-linecap:square;stroke-width:1.5;\"/>\r\n   </g>\r\n   <g id=\"line2d_15\">\r\n    <path clip-path=\"url(#p05d2088616)\" d=\"M 334.083813 158.278442 \r\nL 340.295315 158.278442 \r\nL 346.506818 130.039481 \r\n\" style=\"fill:none;stroke:#ff7f0e;stroke-linecap:square;stroke-width:1.5;\"/>\r\n   </g>\r\n   <g id=\"patch_3\">\r\n    <path d=\"M 26.925 224.64 \r\nL 26.925 7.2 \r\n\" style=\"fill:none;stroke:#000000;stroke-linecap:square;stroke-linejoin:miter;stroke-width:0.8;\"/>\r\n   </g>\r\n   <g id=\"patch_4\">\r\n    <path d=\"M 361.725 224.64 \r\nL 361.725 7.2 \r\n\" style=\"fill:none;stroke:#000000;stroke-linecap:square;stroke-linejoin:miter;stroke-width:0.8;\"/>\r\n   </g>\r\n   <g id=\"patch_5\">\r\n    <path d=\"M 26.925 224.64 \r\nL 361.725 224.64 \r\n\" style=\"fill:none;stroke:#000000;stroke-linecap:square;stroke-linejoin:miter;stroke-width:0.8;\"/>\r\n   </g>\r\n   <g id=\"patch_6\">\r\n    <path d=\"M 26.925 7.2 \r\nL 361.725 7.2 \r\n\" style=\"fill:none;stroke:#000000;stroke-linecap:square;stroke-linejoin:miter;stroke-width:0.8;\"/>\r\n   </g>\r\n  </g>\r\n </g>\r\n <defs>\r\n  <clipPath id=\"p05d2088616\">\r\n   <rect height=\"217.44\" width=\"334.8\" x=\"26.925\" y=\"7.2\"/>\r\n  </clipPath>\r\n </defs>\r\n</svg>\r\n",
      "image/png": "[encoded data removed]"
     },
     "metadata": {
      "needs_background": "light"
     }
    },
    {
     "output_type": "display_data",
     "data": {
      "text/plain": "<Figure size 432x288 with 1 Axes>",
      "image/svg+xml": "<?xml version=\"1.0\" encoding=\"utf-8\" standalone=\"no\"?>\r\n<!DOCTYPE svg PUBLIC \"-//W3C//DTD SVG 1.1//EN\"\r\n  \"http://www.w3.org/Graphics/SVG/1.1/DTD/svg11.dtd\">\r\n<!-- Created with matplotlib (https://matplotlib.org/) -->\r\n<svg height=\"248.518125pt\" version=\"1.1\" viewBox=\"0 0 368.925 248.518125\" width=\"368.925pt\" xmlns=\"http://www.w3.org/2000/svg\" xmlns:xlink=\"http://www.w3.org/1999/xlink\">\r\n <defs>\r\n  <style type=\"text/css\">\r\n*{stroke-linecap:butt;stroke-linejoin:round;}\r\n  </style>\r\n </defs>\r\n <g id=\"figure_1\">\r\n  <g id=\"patch_1\">\r\n   <path d=\"M -0 248.518125 \r\nL 368.925 248.518125 \r\nL 368.925 0 \r\nL -0 0 \r\nz\r\n\" style=\"fill:none;\"/>\r\n  </g>\r\n  <g id=\"axes_1\">\r\n   <g id=\"patch_2\">\r\n    <path d=\"M 26.925 224.64 \r\nL 361.725 224.64 \r\nL 361.725 7.2 \r\nL 26.925 7.2 \r\nz\r\n\" style=\"fill:#ffffff;\"/>\r\n   </g>\r\n   <g id=\"matplotlib.axis_1\">\r\n    <g id=\"xtick_1\">\r\n     <g id=\"line2d_1\">\r\n      <defs>\r\n       <path d=\"M 0 0 \r\nL 0 3.5 \r\n\" id=\"mb84e3b9261\" style=\"stroke:#000000;stroke-width:0.8;\"/>\r\n      </defs>\r\n      <g>\r\n       <use style=\"stroke:#000000;stroke-width:0.8;\" x=\"42.143182\" xlink:href=\"#mb84e3b9261\" y=\"224.64\"/>\r\n      </g>\r\n     </g>\r\n     <g id=\"text_1\">\r\n      <!-- 2020-01-01 -->\r\n      <defs>\r\n       <path d=\"M 19.1875 8.296875 \r\nL 53.609375 8.296875 \r\nL 53.609375 0 \r\nL 7.328125 0 \r\nL 7.328125 8.296875 \r\nQ 12.9375 14.109375 22.625 23.890625 \r\nQ 32.328125 33.6875 34.8125 36.53125 \r\nQ 39.546875 41.84375 41.421875 45.53125 \r\nQ 43.3125 49.21875 43.3125 52.78125 \r\nQ 43.3125 58.59375 39.234375 62.25 \r\nQ 35.15625 65.921875 28.609375 65.921875 \r\nQ 23.96875 65.921875 18.8125 64.3125 \r\nQ 13.671875 62.703125 7.8125 59.421875 \r\nL 7.8125 69.390625 \r\nQ 13.765625 71.78125 18.9375 73 \r\nQ 24.125 74.21875 28.421875 74.21875 \r\nQ 39.75 74.21875 46.484375 68.546875 \r\nQ 53.21875 62.890625 53.21875 53.421875 \r\nQ 53.21875 48.921875 51.53125 44.890625 \r\nQ 49.859375 40.875 45.40625 35.40625 \r\nQ 44.1875 33.984375 37.640625 27.21875 \r\nQ 31.109375 20.453125 19.1875 8.296875 \r\nz\r\n\" id=\"DejaVuSans-50\"/>\r\n       <path d=\"M 31.78125 66.40625 \r\nQ 24.171875 66.40625 20.328125 58.90625 \r\nQ 16.5 51.421875 16.5 36.375 \r\nQ 16.5 21.390625 20.328125 13.890625 \r\nQ 24.171875 6.390625 31.78125 6.390625 \r\nQ 39.453125 6.390625 43.28125 13.890625 \r\nQ 47.125 21.390625 47.125 36.375 \r\nQ 47.125 51.421875 43.28125 58.90625 \r\nQ 39.453125 66.40625 31.78125 66.40625 \r\nz\r\nM 31.78125 74.21875 \r\nQ 44.046875 74.21875 50.515625 64.515625 \r\nQ 56.984375 54.828125 56.984375 36.375 \r\nQ 56.984375 17.96875 50.515625 8.265625 \r\nQ 44.046875 -1.421875 31.78125 -1.421875 \r\nQ 19.53125 -1.421875 13.0625 8.265625 \r\nQ 6.59375 17.96875 6.59375 36.375 \r\nQ 6.59375 54.828125 13.0625 64.515625 \r\nQ 19.53125 74.21875 31.78125 74.21875 \r\nz\r\n\" id=\"DejaVuSans-48\"/>\r\n       <path d=\"M 4.890625 31.390625 \r\nL 31.203125 31.390625 \r\nL 31.203125 23.390625 \r\nL 4.890625 23.390625 \r\nz\r\n\" id=\"DejaVuSans-45\"/>\r\n       <path d=\"M 12.40625 8.296875 \r\nL 28.515625 8.296875 \r\nL 28.515625 63.921875 \r\nL 10.984375 60.40625 \r\nL 10.984375 69.390625 \r\nL 28.421875 72.90625 \r\nL 38.28125 72.90625 \r\nL 38.28125 8.296875 \r\nL 54.390625 8.296875 \r\nL 54.390625 0 \r\nL 12.40625 0 \r\nz\r\n\" id=\"DejaVuSans-49\"/>\r\n      </defs>\r\n      <g transform=\"translate(13.085369 239.238438)scale(0.1 -0.1)\">\r\n       <use xlink:href=\"#DejaVuSans-50\"/>\r\n       <use x=\"63.623047\" xlink:href=\"#DejaVuSans-48\"/>\r\n       <use x=\"127.246094\" xlink:href=\"#DejaVuSans-50\"/>\r\n       <use x=\"190.869141\" xlink:href=\"#DejaVuSans-48\"/>\r\n       <use x=\"254.492188\" xlink:href=\"#DejaVuSans-45\"/>\r\n       <use x=\"290.576172\" xlink:href=\"#DejaVuSans-48\"/>\r\n       <use x=\"354.199219\" xlink:href=\"#DejaVuSans-49\"/>\r\n       <use x=\"417.822266\" xlink:href=\"#DejaVuSans-45\"/>\r\n       <use x=\"453.90625\" xlink:href=\"#DejaVuSans-48\"/>\r\n       <use x=\"517.529297\" xlink:href=\"#DejaVuSans-49\"/>\r\n      </g>\r\n     </g>\r\n    </g>\r\n    <g id=\"xtick_2\">\r\n     <g id=\"line2d_2\">\r\n      <g>\r\n       <use style=\"stroke:#000000;stroke-width:0.8;\" x=\"85.623701\" xlink:href=\"#mb84e3b9261\" y=\"224.64\"/>\r\n      </g>\r\n     </g>\r\n     <g id=\"text_2\">\r\n      <!-- 2020-01-08 -->\r\n      <defs>\r\n       <path d=\"M 31.78125 34.625 \r\nQ 24.75 34.625 20.71875 30.859375 \r\nQ 16.703125 27.09375 16.703125 20.515625 \r\nQ 16.703125 13.921875 20.71875 10.15625 \r\nQ 24.75 6.390625 31.78125 6.390625 \r\nQ 38.8125 6.390625 42.859375 10.171875 \r\nQ 46.921875 13.96875 46.921875 20.515625 \r\nQ 46.921875 27.09375 42.890625 30.859375 \r\nQ 38.875 34.625 31.78125 34.625 \r\nz\r\nM 21.921875 38.8125 \r\nQ 15.578125 40.375 12.03125 44.71875 \r\nQ 8.5 49.078125 8.5 55.328125 \r\nQ 8.5 64.0625 14.71875 69.140625 \r\nQ 20.953125 74.21875 31.78125 74.21875 \r\nQ 42.671875 74.21875 48.875 69.140625 \r\nQ 55.078125 64.0625 55.078125 55.328125 \r\nQ 55.078125 49.078125 51.53125 44.71875 \r\nQ 48 40.375 41.703125 38.8125 \r\nQ 48.828125 37.15625 52.796875 32.3125 \r\nQ 56.78125 27.484375 56.78125 20.515625 \r\nQ 56.78125 9.90625 50.3125 4.234375 \r\nQ 43.84375 -1.421875 31.78125 -1.421875 \r\nQ 19.734375 -1.421875 13.25 4.234375 \r\nQ 6.78125 9.90625 6.78125 20.515625 \r\nQ 6.78125 27.484375 10.78125 32.3125 \r\nQ 14.796875 37.15625 21.921875 38.8125 \r\nz\r\nM 18.3125 54.390625 \r\nQ 18.3125 48.734375 21.84375 45.5625 \r\nQ 25.390625 42.390625 31.78125 42.390625 \r\nQ 38.140625 42.390625 41.71875 45.5625 \r\nQ 45.3125 48.734375 45.3125 54.390625 \r\nQ 45.3125 60.0625 41.71875 63.234375 \r\nQ 38.140625 66.40625 31.78125 66.40625 \r\nQ 25.390625 66.40625 21.84375 63.234375 \r\nQ 18.3125 60.0625 18.3125 54.390625 \r\nz\r\n\" id=\"DejaVuSans-56\"/>\r\n      </defs>\r\n      <g transform=\"translate(56.565889 239.238438)scale(0.1 -0.1)\">\r\n       <use xlink:href=\"#DejaVuSans-50\"/>\r\n       <use x=\"63.623047\" xlink:href=\"#DejaVuSans-48\"/>\r\n       <use x=\"127.246094\" xlink:href=\"#DejaVuSans-50\"/>\r\n       <use x=\"190.869141\" xlink:href=\"#DejaVuSans-48\"/>\r\n       <use x=\"254.492188\" xlink:href=\"#DejaVuSans-45\"/>\r\n       <use x=\"290.576172\" xlink:href=\"#DejaVuSans-48\"/>\r\n       <use x=\"354.199219\" xlink:href=\"#DejaVuSans-49\"/>\r\n       <use x=\"417.822266\" xlink:href=\"#DejaVuSans-45\"/>\r\n       <use x=\"453.90625\" xlink:href=\"#DejaVuSans-48\"/>\r\n       <use x=\"517.529297\" xlink:href=\"#DejaVuSans-56\"/>\r\n      </g>\r\n     </g>\r\n    </g>\r\n    <g id=\"xtick_3\">\r\n     <g id=\"line2d_3\">\r\n      <g>\r\n       <use style=\"stroke:#000000;stroke-width:0.8;\" x=\"129.104221\" xlink:href=\"#mb84e3b9261\" y=\"224.64\"/>\r\n      </g>\r\n     </g>\r\n     <g id=\"text_3\">\r\n      <!-- 2020-01-15 -->\r\n      <defs>\r\n       <path d=\"M 10.796875 72.90625 \r\nL 49.515625 72.90625 \r\nL 49.515625 64.59375 \r\nL 19.828125 64.59375 \r\nL 19.828125 46.734375 \r\nQ 21.96875 47.46875 24.109375 47.828125 \r\nQ 26.265625 48.1875 28.421875 48.1875 \r\nQ 40.625 48.1875 47.75 41.5 \r\nQ 54.890625 34.8125 54.890625 23.390625 \r\nQ 54.890625 11.625 47.5625 5.09375 \r\nQ 40.234375 -1.421875 26.90625 -1.421875 \r\nQ 22.3125 -1.421875 17.546875 -0.640625 \r\nQ 12.796875 0.140625 7.71875 1.703125 \r\nL 7.71875 11.625 \r\nQ 12.109375 9.234375 16.796875 8.0625 \r\nQ 21.484375 6.890625 26.703125 6.890625 \r\nQ 35.15625 6.890625 40.078125 11.328125 \r\nQ 45.015625 15.765625 45.015625 23.390625 \r\nQ 45.015625 31 40.078125 35.4375 \r\nQ 35.15625 39.890625 26.703125 39.890625 \r\nQ 22.75 39.890625 18.8125 39.015625 \r\nQ 14.890625 38.140625 10.796875 36.28125 \r\nz\r\n\" id=\"DejaVuSans-53\"/>\r\n      </defs>\r\n      <g transform=\"translate(100.046408 239.238438)scale(0.1 -0.1)\">\r\n       <use xlink:href=\"#DejaVuSans-50\"/>\r\n       <use x=\"63.623047\" xlink:href=\"#DejaVuSans-48\"/>\r\n       <use x=\"127.246094\" xlink:href=\"#DejaVuSans-50\"/>\r\n       <use x=\"190.869141\" xlink:href=\"#DejaVuSans-48\"/>\r\n       <use x=\"254.492188\" xlink:href=\"#DejaVuSans-45\"/>\r\n       <use x=\"290.576172\" xlink:href=\"#DejaVuSans-48\"/>\r\n       <use x=\"354.199219\" xlink:href=\"#DejaVuSans-49\"/>\r\n       <use x=\"417.822266\" xlink:href=\"#DejaVuSans-45\"/>\r\n       <use x=\"453.90625\" xlink:href=\"#DejaVuSans-49\"/>\r\n       <use x=\"517.529297\" xlink:href=\"#DejaVuSans-53\"/>\r\n      </g>\r\n     </g>\r\n    </g>\r\n    <g id=\"xtick_4\">\r\n     <g id=\"line2d_4\">\r\n      <g>\r\n       <use style=\"stroke:#000000;stroke-width:0.8;\" x=\"172.58474\" xlink:href=\"#mb84e3b9261\" y=\"224.64\"/>\r\n      </g>\r\n     </g>\r\n     <g id=\"text_4\">\r\n      <!-- 2020-01-22 -->\r\n      <g transform=\"translate(143.526928 239.238438)scale(0.1 -0.1)\">\r\n       <use xlink:href=\"#DejaVuSans-50\"/>\r\n       <use x=\"63.623047\" xlink:href=\"#DejaVuSans-48\"/>\r\n       <use x=\"127.246094\" xlink:href=\"#DejaVuSans-50\"/>\r\n       <use x=\"190.869141\" xlink:href=\"#DejaVuSans-48\"/>\r\n       <use x=\"254.492188\" xlink:href=\"#DejaVuSans-45\"/>\r\n       <use x=\"290.576172\" xlink:href=\"#DejaVuSans-48\"/>\r\n       <use x=\"354.199219\" xlink:href=\"#DejaVuSans-49\"/>\r\n       <use x=\"417.822266\" xlink:href=\"#DejaVuSans-45\"/>\r\n       <use x=\"453.90625\" xlink:href=\"#DejaVuSans-50\"/>\r\n       <use x=\"517.529297\" xlink:href=\"#DejaVuSans-50\"/>\r\n      </g>\r\n     </g>\r\n    </g>\r\n    <g id=\"xtick_5\">\r\n     <g id=\"line2d_5\">\r\n      <g>\r\n       <use style=\"stroke:#000000;stroke-width:0.8;\" x=\"234.699768\" xlink:href=\"#mb84e3b9261\" y=\"224.64\"/>\r\n      </g>\r\n     </g>\r\n     <g id=\"text_5\">\r\n      <!-- 2020-02-01 -->\r\n      <g transform=\"translate(205.641956 239.238438)scale(0.1 -0.1)\">\r\n       <use xlink:href=\"#DejaVuSans-50\"/>\r\n       <use x=\"63.623047\" xlink:href=\"#DejaVuSans-48\"/>\r\n       <use x=\"127.246094\" xlink:href=\"#DejaVuSans-50\"/>\r\n       <use x=\"190.869141\" xlink:href=\"#DejaVuSans-48\"/>\r\n       <use x=\"254.492188\" xlink:href=\"#DejaVuSans-45\"/>\r\n       <use x=\"290.576172\" xlink:href=\"#DejaVuSans-48\"/>\r\n       <use x=\"354.199219\" xlink:href=\"#DejaVuSans-50\"/>\r\n       <use x=\"417.822266\" xlink:href=\"#DejaVuSans-45\"/>\r\n       <use x=\"453.90625\" xlink:href=\"#DejaVuSans-48\"/>\r\n       <use x=\"517.529297\" xlink:href=\"#DejaVuSans-49\"/>\r\n      </g>\r\n     </g>\r\n    </g>\r\n    <g id=\"xtick_6\">\r\n     <g id=\"line2d_6\">\r\n      <g>\r\n       <use style=\"stroke:#000000;stroke-width:0.8;\" x=\"278.180288\" xlink:href=\"#mb84e3b9261\" y=\"224.64\"/>\r\n      </g>\r\n     </g>\r\n     <g id=\"text_6\">\r\n      <!-- 2020-02-08 -->\r\n      <g transform=\"translate(249.122475 239.238438)scale(0.1 -0.1)\">\r\n       <use xlink:href=\"#DejaVuSans-50\"/>\r\n       <use x=\"63.623047\" xlink:href=\"#DejaVuSans-48\"/>\r\n       <use x=\"127.246094\" xlink:href=\"#DejaVuSans-50\"/>\r\n       <use x=\"190.869141\" xlink:href=\"#DejaVuSans-48\"/>\r\n       <use x=\"254.492188\" xlink:href=\"#DejaVuSans-45\"/>\r\n       <use x=\"290.576172\" xlink:href=\"#DejaVuSans-48\"/>\r\n       <use x=\"354.199219\" xlink:href=\"#DejaVuSans-50\"/>\r\n       <use x=\"417.822266\" xlink:href=\"#DejaVuSans-45\"/>\r\n       <use x=\"453.90625\" xlink:href=\"#DejaVuSans-48\"/>\r\n       <use x=\"517.529297\" xlink:href=\"#DejaVuSans-56\"/>\r\n      </g>\r\n     </g>\r\n    </g>\r\n    <g id=\"xtick_7\">\r\n     <g id=\"line2d_7\">\r\n      <g>\r\n       <use style=\"stroke:#000000;stroke-width:0.8;\" x=\"321.660807\" xlink:href=\"#mb84e3b9261\" y=\"224.64\"/>\r\n      </g>\r\n     </g>\r\n     <g id=\"text_7\">\r\n      <!-- 2020-02-15 -->\r\n      <g transform=\"translate(292.602995 239.238438)scale(0.1 -0.1)\">\r\n       <use xlink:href=\"#DejaVuSans-50\"/>\r\n       <use x=\"63.623047\" xlink:href=\"#DejaVuSans-48\"/>\r\n       <use x=\"127.246094\" xlink:href=\"#DejaVuSans-50\"/>\r\n       <use x=\"190.869141\" xlink:href=\"#DejaVuSans-48\"/>\r\n       <use x=\"254.492188\" xlink:href=\"#DejaVuSans-45\"/>\r\n       <use x=\"290.576172\" xlink:href=\"#DejaVuSans-48\"/>\r\n       <use x=\"354.199219\" xlink:href=\"#DejaVuSans-50\"/>\r\n       <use x=\"417.822266\" xlink:href=\"#DejaVuSans-45\"/>\r\n       <use x=\"453.90625\" xlink:href=\"#DejaVuSans-49\"/>\r\n       <use x=\"517.529297\" xlink:href=\"#DejaVuSans-53\"/>\r\n      </g>\r\n     </g>\r\n    </g>\r\n   </g>\r\n   <g id=\"matplotlib.axis_2\">\r\n    <g id=\"ytick_1\">\r\n     <g id=\"line2d_8\">\r\n      <defs>\r\n       <path d=\"M 0 0 \r\nL -3.5 0 \r\n\" id=\"mf1c0c2efc7\" style=\"stroke:#000000;stroke-width:0.8;\"/>\r\n      </defs>\r\n      <g>\r\n       <use style=\"stroke:#000000;stroke-width:0.8;\" x=\"26.925\" xlink:href=\"#mf1c0c2efc7\" y=\"214.756364\"/>\r\n      </g>\r\n     </g>\r\n     <g id=\"text_8\">\r\n      <!-- 0 -->\r\n      <g transform=\"translate(13.5625 218.555582)scale(0.1 -0.1)\">\r\n       <use xlink:href=\"#DejaVuSans-48\"/>\r\n      </g>\r\n     </g>\r\n    </g>\r\n    <g id=\"ytick_2\">\r\n     <g id=\"line2d_9\">\r\n      <g>\r\n       <use style=\"stroke:#000000;stroke-width:0.8;\" x=\"26.925\" xlink:href=\"#mf1c0c2efc7\" y=\"171.784032\"/>\r\n      </g>\r\n     </g>\r\n     <g id=\"text_9\">\r\n      <!-- 5 -->\r\n      <g transform=\"translate(13.5625 175.58325)scale(0.1 -0.1)\">\r\n       <use xlink:href=\"#DejaVuSans-53\"/>\r\n      </g>\r\n     </g>\r\n    </g>\r\n    <g id=\"ytick_3\">\r\n     <g id=\"line2d_10\">\r\n      <g>\r\n       <use style=\"stroke:#000000;stroke-width:0.8;\" x=\"26.925\" xlink:href=\"#mf1c0c2efc7\" y=\"128.8117\"/>\r\n      </g>\r\n     </g>\r\n     <g id=\"text_10\">\r\n      <!-- 10 -->\r\n      <g transform=\"translate(7.2 132.610918)scale(0.1 -0.1)\">\r\n       <use xlink:href=\"#DejaVuSans-49\"/>\r\n       <use x=\"63.623047\" xlink:href=\"#DejaVuSans-48\"/>\r\n      </g>\r\n     </g>\r\n    </g>\r\n    <g id=\"ytick_4\">\r\n     <g id=\"line2d_11\">\r\n      <g>\r\n       <use style=\"stroke:#000000;stroke-width:0.8;\" x=\"26.925\" xlink:href=\"#mf1c0c2efc7\" y=\"85.839368\"/>\r\n      </g>\r\n     </g>\r\n     <g id=\"text_11\">\r\n      <!-- 15 -->\r\n      <g transform=\"translate(7.2 89.638586)scale(0.1 -0.1)\">\r\n       <use xlink:href=\"#DejaVuSans-49\"/>\r\n       <use x=\"63.623047\" xlink:href=\"#DejaVuSans-53\"/>\r\n      </g>\r\n     </g>\r\n    </g>\r\n    <g id=\"ytick_5\">\r\n     <g id=\"line2d_12\">\r\n      <g>\r\n       <use style=\"stroke:#000000;stroke-width:0.8;\" x=\"26.925\" xlink:href=\"#mf1c0c2efc7\" y=\"42.867036\"/>\r\n      </g>\r\n     </g>\r\n     <g id=\"text_12\">\r\n      <!-- 20 -->\r\n      <g transform=\"translate(7.2 46.666254)scale(0.1 -0.1)\">\r\n       <use xlink:href=\"#DejaVuSans-50\"/>\r\n       <use x=\"63.623047\" xlink:href=\"#DejaVuSans-48\"/>\r\n      </g>\r\n     </g>\r\n    </g>\r\n   </g>\r\n   <g id=\"line2d_13\">\r\n    <path clip-path=\"url(#p87213affa6)\" d=\"M 42.143182 180.378498 \r\nL 48.354685 77.244901 \r\nL 54.566187 85.839368 \r\nL 60.77769 120.217233 \r\nL 66.989193 171.784032 \r\nL 73.200696 51.461502 \r\nL 79.412199 94.433834 \r\nL 85.623701 163.189565 \r\nL 91.835204 163.189565 \r\nL 98.046707 146.000632 \r\nL 104.25821 42.867036 \r\nL 110.469712 111.622767 \r\nL 116.681215 214.756364 \r\nL 122.892718 163.189565 \r\nL 129.104221 171.784032 \r\nL 135.315724 120.217233 \r\nL 141.527226 188.972964 \r\nL 147.738729 60.055968 \r\nL 153.950232 77.244901 \r\nL 160.161735 180.378498 \r\nL 166.373237 120.217233 \r\nL 172.58474 146.000632 \r\nL 178.796243 197.567431 \r\nL 185.007746 103.0283 \r\nL 191.219249 68.650435 \r\nL 197.430751 25.678103 \r\nL 203.642254 137.406166 \r\nL 209.853757 154.595099 \r\nL 216.06526 103.0283 \r\nL 222.276763 163.189565 \r\nL 228.488265 128.8117 \r\nL 234.699768 180.378498 \r\nL 240.911271 17.083636 \r\nL 247.122774 154.595099 \r\nL 253.334276 154.595099 \r\nL 259.545779 137.406166 \r\nL 265.757282 163.189565 \r\nL 271.968785 137.406166 \r\nL 278.180288 103.0283 \r\nL 284.39179 77.244901 \r\nL 290.603293 154.595099 \r\nL 296.814796 154.595099 \r\nL 303.026299 154.595099 \r\nL 309.237801 137.406166 \r\nL 315.449304 180.378498 \r\nL 321.660807 85.839368 \r\nL 327.87231 60.055968 \r\nL 334.083813 103.0283 \r\nL 340.295315 120.217233 \r\nL 346.506818 137.406166 \r\n\" style=\"fill:none;stroke:#1f77b4;stroke-linecap:square;stroke-width:1.5;\"/>\r\n   </g>\r\n   <g id=\"line2d_14\">\r\n    <path clip-path=\"url(#p87213affa6)\" d=\"M 334.083813 154.595099 \r\nL 340.295315 154.595099 \r\nL 346.506818 154.595099 \r\n\" style=\"fill:none;stroke:#ff7f0e;stroke-linecap:square;stroke-width:1.5;\"/>\r\n   </g>\r\n   <g id=\"patch_3\">\r\n    <path d=\"M 26.925 224.64 \r\nL 26.925 7.2 \r\n\" style=\"fill:none;stroke:#000000;stroke-linecap:square;stroke-linejoin:miter;stroke-width:0.8;\"/>\r\n   </g>\r\n   <g id=\"patch_4\">\r\n    <path d=\"M 361.725 224.64 \r\nL 361.725 7.2 \r\n\" style=\"fill:none;stroke:#000000;stroke-linecap:square;stroke-linejoin:miter;stroke-width:0.8;\"/>\r\n   </g>\r\n   <g id=\"patch_5\">\r\n    <path d=\"M 26.925 224.64 \r\nL 361.725 224.64 \r\n\" style=\"fill:none;stroke:#000000;stroke-linecap:square;stroke-linejoin:miter;stroke-width:0.8;\"/>\r\n   </g>\r\n   <g id=\"patch_6\">\r\n    <path d=\"M 26.925 7.2 \r\nL 361.725 7.2 \r\n\" style=\"fill:none;stroke:#000000;stroke-linecap:square;stroke-linejoin:miter;stroke-width:0.8;\"/>\r\n   </g>\r\n  </g>\r\n </g>\r\n <defs>\r\n  <clipPath id=\"p87213affa6\">\r\n   <rect height=\"217.44\" width=\"334.8\" x=\"26.925\" y=\"7.2\"/>\r\n  </clipPath>\r\n </defs>\r\n</svg>\r\n",
      "image/png": "[encoded data removed]"
     },
     "metadata": {
      "needs_background": "light"
     }
    },
    {
     "output_type": "display_data",
     "data": {
      "text/plain": "<Figure size 432x288 with 1 Axes>",
      "image/svg+xml": "<?xml version=\"1.0\" encoding=\"utf-8\" standalone=\"no\"?>\r\n<!DOCTYPE svg PUBLIC \"-//W3C//DTD SVG 1.1//EN\"\r\n  \"http://www.w3.org/Graphics/SVG/1.1/DTD/svg11.dtd\">\r\n<!-- Created with matplotlib (https://matplotlib.org/) -->\r\n<svg height=\"248.518125pt\" version=\"1.1\" viewBox=\"0 0 372.103125 248.518125\" width=\"372.103125pt\" xmlns=\"http://www.w3.org/2000/svg\" xmlns:xlink=\"http://www.w3.org/1999/xlink\">\r\n <defs>\r\n  <style type=\"text/css\">\r\n*{stroke-linecap:butt;stroke-linejoin:round;}\r\n  </style>\r\n </defs>\r\n <g id=\"figure_1\">\r\n  <g id=\"patch_1\">\r\n   <path d=\"M 0 248.518125 \r\nL 372.103125 248.518125 \r\nL 372.103125 0 \r\nL 0 0 \r\nz\r\n\" style=\"fill:none;\"/>\r\n  </g>\r\n  <g id=\"axes_1\">\r\n   <g id=\"patch_2\">\r\n    <path d=\"M 30.103125 224.64 \r\nL 364.903125 224.64 \r\nL 364.903125 7.2 \r\nL 30.103125 7.2 \r\nz\r\n\" style=\"fill:#ffffff;\"/>\r\n   </g>\r\n   <g id=\"matplotlib.axis_1\">\r\n    <g id=\"xtick_1\">\r\n     <g id=\"line2d_1\">\r\n      <defs>\r\n       <path d=\"M 0 0 \r\nL 0 3.5 \r\n\" id=\"m04d1183a54\" style=\"stroke:#000000;stroke-width:0.8;\"/>\r\n      </defs>\r\n      <g>\r\n       <use style=\"stroke:#000000;stroke-width:0.8;\" x=\"45.321307\" xlink:href=\"#m04d1183a54\" y=\"224.64\"/>\r\n      </g>\r\n     </g>\r\n     <g id=\"text_1\">\r\n      <!-- 2020-01-01 -->\r\n      <defs>\r\n       <path d=\"M 19.1875 8.296875 \r\nL 53.609375 8.296875 \r\nL 53.609375 0 \r\nL 7.328125 0 \r\nL 7.328125 8.296875 \r\nQ 12.9375 14.109375 22.625 23.890625 \r\nQ 32.328125 33.6875 34.8125 36.53125 \r\nQ 39.546875 41.84375 41.421875 45.53125 \r\nQ 43.3125 49.21875 43.3125 52.78125 \r\nQ 43.3125 58.59375 39.234375 62.25 \r\nQ 35.15625 65.921875 28.609375 65.921875 \r\nQ 23.96875 65.921875 18.8125 64.3125 \r\nQ 13.671875 62.703125 7.8125 59.421875 \r\nL 7.8125 69.390625 \r\nQ 13.765625 71.78125 18.9375 73 \r\nQ 24.125 74.21875 28.421875 74.21875 \r\nQ 39.75 74.21875 46.484375 68.546875 \r\nQ 53.21875 62.890625 53.21875 53.421875 \r\nQ 53.21875 48.921875 51.53125 44.890625 \r\nQ 49.859375 40.875 45.40625 35.40625 \r\nQ 44.1875 33.984375 37.640625 27.21875 \r\nQ 31.109375 20.453125 19.1875 8.296875 \r\nz\r\n\" id=\"DejaVuSans-50\"/>\r\n       <path d=\"M 31.78125 66.40625 \r\nQ 24.171875 66.40625 20.328125 58.90625 \r\nQ 16.5 51.421875 16.5 36.375 \r\nQ 16.5 21.390625 20.328125 13.890625 \r\nQ 24.171875 6.390625 31.78125 6.390625 \r\nQ 39.453125 6.390625 43.28125 13.890625 \r\nQ 47.125 21.390625 47.125 36.375 \r\nQ 47.125 51.421875 43.28125 58.90625 \r\nQ 39.453125 66.40625 31.78125 66.40625 \r\nz\r\nM 31.78125 74.21875 \r\nQ 44.046875 74.21875 50.515625 64.515625 \r\nQ 56.984375 54.828125 56.984375 36.375 \r\nQ 56.984375 17.96875 50.515625 8.265625 \r\nQ 44.046875 -1.421875 31.78125 -1.421875 \r\nQ 19.53125 -1.421875 13.0625 8.265625 \r\nQ 6.59375 17.96875 6.59375 36.375 \r\nQ 6.59375 54.828125 13.0625 64.515625 \r\nQ 19.53125 74.21875 31.78125 74.21875 \r\nz\r\n\" id=\"DejaVuSans-48\"/>\r\n       <path d=\"M 4.890625 31.390625 \r\nL 31.203125 31.390625 \r\nL 31.203125 23.390625 \r\nL 4.890625 23.390625 \r\nz\r\n\" id=\"DejaVuSans-45\"/>\r\n       <path d=\"M 12.40625 8.296875 \r\nL 28.515625 8.296875 \r\nL 28.515625 63.921875 \r\nL 10.984375 60.40625 \r\nL 10.984375 69.390625 \r\nL 28.421875 72.90625 \r\nL 38.28125 72.90625 \r\nL 38.28125 8.296875 \r\nL 54.390625 8.296875 \r\nL 54.390625 0 \r\nL 12.40625 0 \r\nz\r\n\" id=\"DejaVuSans-49\"/>\r\n      </defs>\r\n      <g transform=\"translate(16.263494 239.238437)scale(0.1 -0.1)\">\r\n       <use xlink:href=\"#DejaVuSans-50\"/>\r\n       <use x=\"63.623047\" xlink:href=\"#DejaVuSans-48\"/>\r\n       <use x=\"127.246094\" xlink:href=\"#DejaVuSans-50\"/>\r\n       <use x=\"190.869141\" xlink:href=\"#DejaVuSans-48\"/>\r\n       <use x=\"254.492188\" xlink:href=\"#DejaVuSans-45\"/>\r\n       <use x=\"290.576172\" xlink:href=\"#DejaVuSans-48\"/>\r\n       <use x=\"354.199219\" xlink:href=\"#DejaVuSans-49\"/>\r\n       <use x=\"417.822266\" xlink:href=\"#DejaVuSans-45\"/>\r\n       <use x=\"453.90625\" xlink:href=\"#DejaVuSans-48\"/>\r\n       <use x=\"517.529297\" xlink:href=\"#DejaVuSans-49\"/>\r\n      </g>\r\n     </g>\r\n    </g>\r\n    <g id=\"xtick_2\">\r\n     <g id=\"line2d_2\">\r\n      <g>\r\n       <use style=\"stroke:#000000;stroke-width:0.8;\" x=\"88.801826\" xlink:href=\"#m04d1183a54\" y=\"224.64\"/>\r\n      </g>\r\n     </g>\r\n     <g id=\"text_2\">\r\n      <!-- 2020-01-08 -->\r\n      <defs>\r\n       <path d=\"M 31.78125 34.625 \r\nQ 24.75 34.625 20.71875 30.859375 \r\nQ 16.703125 27.09375 16.703125 20.515625 \r\nQ 16.703125 13.921875 20.71875 10.15625 \r\nQ 24.75 6.390625 31.78125 6.390625 \r\nQ 38.8125 6.390625 42.859375 10.171875 \r\nQ 46.921875 13.96875 46.921875 20.515625 \r\nQ 46.921875 27.09375 42.890625 30.859375 \r\nQ 38.875 34.625 31.78125 34.625 \r\nz\r\nM 21.921875 38.8125 \r\nQ 15.578125 40.375 12.03125 44.71875 \r\nQ 8.5 49.078125 8.5 55.328125 \r\nQ 8.5 64.0625 14.71875 69.140625 \r\nQ 20.953125 74.21875 31.78125 74.21875 \r\nQ 42.671875 74.21875 48.875 69.140625 \r\nQ 55.078125 64.0625 55.078125 55.328125 \r\nQ 55.078125 49.078125 51.53125 44.71875 \r\nQ 48 40.375 41.703125 38.8125 \r\nQ 48.828125 37.15625 52.796875 32.3125 \r\nQ 56.78125 27.484375 56.78125 20.515625 \r\nQ 56.78125 9.90625 50.3125 4.234375 \r\nQ 43.84375 -1.421875 31.78125 -1.421875 \r\nQ 19.734375 -1.421875 13.25 4.234375 \r\nQ 6.78125 9.90625 6.78125 20.515625 \r\nQ 6.78125 27.484375 10.78125 32.3125 \r\nQ 14.796875 37.15625 21.921875 38.8125 \r\nz\r\nM 18.3125 54.390625 \r\nQ 18.3125 48.734375 21.84375 45.5625 \r\nQ 25.390625 42.390625 31.78125 42.390625 \r\nQ 38.140625 42.390625 41.71875 45.5625 \r\nQ 45.3125 48.734375 45.3125 54.390625 \r\nQ 45.3125 60.0625 41.71875 63.234375 \r\nQ 38.140625 66.40625 31.78125 66.40625 \r\nQ 25.390625 66.40625 21.84375 63.234375 \r\nQ 18.3125 60.0625 18.3125 54.390625 \r\nz\r\n\" id=\"DejaVuSans-56\"/>\r\n      </defs>\r\n      <g transform=\"translate(59.744014 239.238437)scale(0.1 -0.1)\">\r\n       <use xlink:href=\"#DejaVuSans-50\"/>\r\n       <use x=\"63.623047\" xlink:href=\"#DejaVuSans-48\"/>\r\n       <use x=\"127.246094\" xlink:href=\"#DejaVuSans-50\"/>\r\n       <use x=\"190.869141\" xlink:href=\"#DejaVuSans-48\"/>\r\n       <use x=\"254.492188\" xlink:href=\"#DejaVuSans-45\"/>\r\n       <use x=\"290.576172\" xlink:href=\"#DejaVuSans-48\"/>\r\n       <use x=\"354.199219\" xlink:href=\"#DejaVuSans-49\"/>\r\n       <use x=\"417.822266\" xlink:href=\"#DejaVuSans-45\"/>\r\n       <use x=\"453.90625\" xlink:href=\"#DejaVuSans-48\"/>\r\n       <use x=\"517.529297\" xlink:href=\"#DejaVuSans-56\"/>\r\n      </g>\r\n     </g>\r\n    </g>\r\n    <g id=\"xtick_3\">\r\n     <g id=\"line2d_3\">\r\n      <g>\r\n       <use style=\"stroke:#000000;stroke-width:0.8;\" x=\"132.282346\" xlink:href=\"#m04d1183a54\" y=\"224.64\"/>\r\n      </g>\r\n     </g>\r\n     <g id=\"text_3\">\r\n      <!-- 2020-01-15 -->\r\n      <defs>\r\n       <path d=\"M 10.796875 72.90625 \r\nL 49.515625 72.90625 \r\nL 49.515625 64.59375 \r\nL 19.828125 64.59375 \r\nL 19.828125 46.734375 \r\nQ 21.96875 47.46875 24.109375 47.828125 \r\nQ 26.265625 48.1875 28.421875 48.1875 \r\nQ 40.625 48.1875 47.75 41.5 \r\nQ 54.890625 34.8125 54.890625 23.390625 \r\nQ 54.890625 11.625 47.5625 5.09375 \r\nQ 40.234375 -1.421875 26.90625 -1.421875 \r\nQ 22.3125 -1.421875 17.546875 -0.640625 \r\nQ 12.796875 0.140625 7.71875 1.703125 \r\nL 7.71875 11.625 \r\nQ 12.109375 9.234375 16.796875 8.0625 \r\nQ 21.484375 6.890625 26.703125 6.890625 \r\nQ 35.15625 6.890625 40.078125 11.328125 \r\nQ 45.015625 15.765625 45.015625 23.390625 \r\nQ 45.015625 31 40.078125 35.4375 \r\nQ 35.15625 39.890625 26.703125 39.890625 \r\nQ 22.75 39.890625 18.8125 39.015625 \r\nQ 14.890625 38.140625 10.796875 36.28125 \r\nz\r\n\" id=\"DejaVuSans-53\"/>\r\n      </defs>\r\n      <g transform=\"translate(103.224533 239.238437)scale(0.1 -0.1)\">\r\n       <use xlink:href=\"#DejaVuSans-50\"/>\r\n       <use x=\"63.623047\" xlink:href=\"#DejaVuSans-48\"/>\r\n       <use x=\"127.246094\" xlink:href=\"#DejaVuSans-50\"/>\r\n       <use x=\"190.869141\" xlink:href=\"#DejaVuSans-48\"/>\r\n       <use x=\"254.492188\" xlink:href=\"#DejaVuSans-45\"/>\r\n       <use x=\"290.576172\" xlink:href=\"#DejaVuSans-48\"/>\r\n       <use x=\"354.199219\" xlink:href=\"#DejaVuSans-49\"/>\r\n       <use x=\"417.822266\" xlink:href=\"#DejaVuSans-45\"/>\r\n       <use x=\"453.90625\" xlink:href=\"#DejaVuSans-49\"/>\r\n       <use x=\"517.529297\" xlink:href=\"#DejaVuSans-53\"/>\r\n      </g>\r\n     </g>\r\n    </g>\r\n    <g id=\"xtick_4\">\r\n     <g id=\"line2d_4\">\r\n      <g>\r\n       <use style=\"stroke:#000000;stroke-width:0.8;\" x=\"175.762865\" xlink:href=\"#m04d1183a54\" y=\"224.64\"/>\r\n      </g>\r\n     </g>\r\n     <g id=\"text_4\">\r\n      <!-- 2020-01-22 -->\r\n      <g transform=\"translate(146.705053 239.238437)scale(0.1 -0.1)\">\r\n       <use xlink:href=\"#DejaVuSans-50\"/>\r\n       <use x=\"63.623047\" xlink:href=\"#DejaVuSans-48\"/>\r\n       <use x=\"127.246094\" xlink:href=\"#DejaVuSans-50\"/>\r\n       <use x=\"190.869141\" xlink:href=\"#DejaVuSans-48\"/>\r\n       <use x=\"254.492188\" xlink:href=\"#DejaVuSans-45\"/>\r\n       <use x=\"290.576172\" xlink:href=\"#DejaVuSans-48\"/>\r\n       <use x=\"354.199219\" xlink:href=\"#DejaVuSans-49\"/>\r\n       <use x=\"417.822266\" xlink:href=\"#DejaVuSans-45\"/>\r\n       <use x=\"453.90625\" xlink:href=\"#DejaVuSans-50\"/>\r\n       <use x=\"517.529297\" xlink:href=\"#DejaVuSans-50\"/>\r\n      </g>\r\n     </g>\r\n    </g>\r\n    <g id=\"xtick_5\">\r\n     <g id=\"line2d_5\">\r\n      <g>\r\n       <use style=\"stroke:#000000;stroke-width:0.8;\" x=\"237.877893\" xlink:href=\"#m04d1183a54\" y=\"224.64\"/>\r\n      </g>\r\n     </g>\r\n     <g id=\"text_5\">\r\n      <!-- 2020-02-01 -->\r\n      <g transform=\"translate(208.820081 239.238437)scale(0.1 -0.1)\">\r\n       <use xlink:href=\"#DejaVuSans-50\"/>\r\n       <use x=\"63.623047\" xlink:href=\"#DejaVuSans-48\"/>\r\n       <use x=\"127.246094\" xlink:href=\"#DejaVuSans-50\"/>\r\n       <use x=\"190.869141\" xlink:href=\"#DejaVuSans-48\"/>\r\n       <use x=\"254.492188\" xlink:href=\"#DejaVuSans-45\"/>\r\n       <use x=\"290.576172\" xlink:href=\"#DejaVuSans-48\"/>\r\n       <use x=\"354.199219\" xlink:href=\"#DejaVuSans-50\"/>\r\n       <use x=\"417.822266\" xlink:href=\"#DejaVuSans-45\"/>\r\n       <use x=\"453.90625\" xlink:href=\"#DejaVuSans-48\"/>\r\n       <use x=\"517.529297\" xlink:href=\"#DejaVuSans-49\"/>\r\n      </g>\r\n     </g>\r\n    </g>\r\n    <g id=\"xtick_6\">\r\n     <g id=\"line2d_6\">\r\n      <g>\r\n       <use style=\"stroke:#000000;stroke-width:0.8;\" x=\"281.358413\" xlink:href=\"#m04d1183a54\" y=\"224.64\"/>\r\n      </g>\r\n     </g>\r\n     <g id=\"text_6\">\r\n      <!-- 2020-02-08 -->\r\n      <g transform=\"translate(252.3006 239.238437)scale(0.1 -0.1)\">\r\n       <use xlink:href=\"#DejaVuSans-50\"/>\r\n       <use x=\"63.623047\" xlink:href=\"#DejaVuSans-48\"/>\r\n       <use x=\"127.246094\" xlink:href=\"#DejaVuSans-50\"/>\r\n       <use x=\"190.869141\" xlink:href=\"#DejaVuSans-48\"/>\r\n       <use x=\"254.492188\" xlink:href=\"#DejaVuSans-45\"/>\r\n       <use x=\"290.576172\" xlink:href=\"#DejaVuSans-48\"/>\r\n       <use x=\"354.199219\" xlink:href=\"#DejaVuSans-50\"/>\r\n       <use x=\"417.822266\" xlink:href=\"#DejaVuSans-45\"/>\r\n       <use x=\"453.90625\" xlink:href=\"#DejaVuSans-48\"/>\r\n       <use x=\"517.529297\" xlink:href=\"#DejaVuSans-56\"/>\r\n      </g>\r\n     </g>\r\n    </g>\r\n    <g id=\"xtick_7\">\r\n     <g id=\"line2d_7\">\r\n      <g>\r\n       <use style=\"stroke:#000000;stroke-width:0.8;\" x=\"324.838932\" xlink:href=\"#m04d1183a54\" y=\"224.64\"/>\r\n      </g>\r\n     </g>\r\n     <g id=\"text_7\">\r\n      <!-- 2020-02-15 -->\r\n      <g transform=\"translate(295.78112 239.238437)scale(0.1 -0.1)\">\r\n       <use xlink:href=\"#DejaVuSans-50\"/>\r\n       <use x=\"63.623047\" xlink:href=\"#DejaVuSans-48\"/>\r\n       <use x=\"127.246094\" xlink:href=\"#DejaVuSans-50\"/>\r\n       <use x=\"190.869141\" xlink:href=\"#DejaVuSans-48\"/>\r\n       <use x=\"254.492188\" xlink:href=\"#DejaVuSans-45\"/>\r\n       <use x=\"290.576172\" xlink:href=\"#DejaVuSans-48\"/>\r\n       <use x=\"354.199219\" xlink:href=\"#DejaVuSans-50\"/>\r\n       <use x=\"417.822266\" xlink:href=\"#DejaVuSans-45\"/>\r\n       <use x=\"453.90625\" xlink:href=\"#DejaVuSans-49\"/>\r\n       <use x=\"517.529297\" xlink:href=\"#DejaVuSans-53\"/>\r\n      </g>\r\n     </g>\r\n    </g>\r\n   </g>\r\n   <g id=\"matplotlib.axis_2\">\r\n    <g id=\"ytick_1\">\r\n     <g id=\"line2d_8\">\r\n      <defs>\r\n       <path d=\"M 0 0 \r\nL -3.5 0 \r\n\" id=\"md247fe1e3f\" style=\"stroke:#000000;stroke-width:0.8;\"/>\r\n      </defs>\r\n      <g>\r\n       <use style=\"stroke:#000000;stroke-width:0.8;\" x=\"30.103125\" xlink:href=\"#md247fe1e3f\" y=\"214.756364\"/>\r\n      </g>\r\n     </g>\r\n     <g id=\"text_8\">\r\n      <!-- 0.0 -->\r\n      <defs>\r\n       <path d=\"M 10.6875 12.40625 \r\nL 21 12.40625 \r\nL 21 0 \r\nL 10.6875 0 \r\nz\r\n\" id=\"DejaVuSans-46\"/>\r\n      </defs>\r\n      <g transform=\"translate(7.2 218.555582)scale(0.1 -0.1)\">\r\n       <use xlink:href=\"#DejaVuSans-48\"/>\r\n       <use x=\"63.623047\" xlink:href=\"#DejaVuSans-46\"/>\r\n       <use x=\"95.410156\" xlink:href=\"#DejaVuSans-48\"/>\r\n      </g>\r\n     </g>\r\n    </g>\r\n    <g id=\"ytick_2\">\r\n     <g id=\"line2d_9\">\r\n      <g>\r\n       <use style=\"stroke:#000000;stroke-width:0.8;\" x=\"30.103125\" xlink:href=\"#md247fe1e3f\" y=\"175.221818\"/>\r\n      </g>\r\n     </g>\r\n     <g id=\"text_9\">\r\n      <!-- 0.2 -->\r\n      <g transform=\"translate(7.2 179.021037)scale(0.1 -0.1)\">\r\n       <use xlink:href=\"#DejaVuSans-48\"/>\r\n       <use x=\"63.623047\" xlink:href=\"#DejaVuSans-46\"/>\r\n       <use x=\"95.410156\" xlink:href=\"#DejaVuSans-50\"/>\r\n      </g>\r\n     </g>\r\n    </g>\r\n    <g id=\"ytick_3\">\r\n     <g id=\"line2d_10\">\r\n      <g>\r\n       <use style=\"stroke:#000000;stroke-width:0.8;\" x=\"30.103125\" xlink:href=\"#md247fe1e3f\" y=\"135.687273\"/>\r\n      </g>\r\n     </g>\r\n     <g id=\"text_10\">\r\n      <!-- 0.4 -->\r\n      <defs>\r\n       <path d=\"M 37.796875 64.3125 \r\nL 12.890625 25.390625 \r\nL 37.796875 25.390625 \r\nz\r\nM 35.203125 72.90625 \r\nL 47.609375 72.90625 \r\nL 47.609375 25.390625 \r\nL 58.015625 25.390625 \r\nL 58.015625 17.1875 \r\nL 47.609375 17.1875 \r\nL 47.609375 0 \r\nL 37.796875 0 \r\nL 37.796875 17.1875 \r\nL 4.890625 17.1875 \r\nL 4.890625 26.703125 \r\nz\r\n\" id=\"DejaVuSans-52\"/>\r\n      </defs>\r\n      <g transform=\"translate(7.2 139.486491)scale(0.1 -0.1)\">\r\n       <use xlink:href=\"#DejaVuSans-48\"/>\r\n       <use x=\"63.623047\" xlink:href=\"#DejaVuSans-46\"/>\r\n       <use x=\"95.410156\" xlink:href=\"#DejaVuSans-52\"/>\r\n      </g>\r\n     </g>\r\n    </g>\r\n    <g id=\"ytick_4\">\r\n     <g id=\"line2d_11\">\r\n      <g>\r\n       <use style=\"stroke:#000000;stroke-width:0.8;\" x=\"30.103125\" xlink:href=\"#md247fe1e3f\" y=\"96.152727\"/>\r\n      </g>\r\n     </g>\r\n     <g id=\"text_11\">\r\n      <!-- 0.6 -->\r\n      <defs>\r\n       <path d=\"M 33.015625 40.375 \r\nQ 26.375 40.375 22.484375 35.828125 \r\nQ 18.609375 31.296875 18.609375 23.390625 \r\nQ 18.609375 15.53125 22.484375 10.953125 \r\nQ 26.375 6.390625 33.015625 6.390625 \r\nQ 39.65625 6.390625 43.53125 10.953125 \r\nQ 47.40625 15.53125 47.40625 23.390625 \r\nQ 47.40625 31.296875 43.53125 35.828125 \r\nQ 39.65625 40.375 33.015625 40.375 \r\nz\r\nM 52.59375 71.296875 \r\nL 52.59375 62.3125 \r\nQ 48.875 64.0625 45.09375 64.984375 \r\nQ 41.3125 65.921875 37.59375 65.921875 \r\nQ 27.828125 65.921875 22.671875 59.328125 \r\nQ 17.53125 52.734375 16.796875 39.40625 \r\nQ 19.671875 43.65625 24.015625 45.921875 \r\nQ 28.375 48.1875 33.59375 48.1875 \r\nQ 44.578125 48.1875 50.953125 41.515625 \r\nQ 57.328125 34.859375 57.328125 23.390625 \r\nQ 57.328125 12.15625 50.6875 5.359375 \r\nQ 44.046875 -1.421875 33.015625 -1.421875 \r\nQ 20.359375 -1.421875 13.671875 8.265625 \r\nQ 6.984375 17.96875 6.984375 36.375 \r\nQ 6.984375 53.65625 15.1875 63.9375 \r\nQ 23.390625 74.21875 37.203125 74.21875 \r\nQ 40.921875 74.21875 44.703125 73.484375 \r\nQ 48.484375 72.75 52.59375 71.296875 \r\nz\r\n\" id=\"DejaVuSans-54\"/>\r\n      </defs>\r\n      <g transform=\"translate(7.2 99.951946)scale(0.1 -0.1)\">\r\n       <use xlink:href=\"#DejaVuSans-48\"/>\r\n       <use x=\"63.623047\" xlink:href=\"#DejaVuSans-46\"/>\r\n       <use x=\"95.410156\" xlink:href=\"#DejaVuSans-54\"/>\r\n      </g>\r\n     </g>\r\n    </g>\r\n    <g id=\"ytick_5\">\r\n     <g id=\"line2d_12\">\r\n      <g>\r\n       <use style=\"stroke:#000000;stroke-width:0.8;\" x=\"30.103125\" xlink:href=\"#md247fe1e3f\" y=\"56.618182\"/>\r\n      </g>\r\n     </g>\r\n     <g id=\"text_12\">\r\n      <!-- 0.8 -->\r\n      <g transform=\"translate(7.2 60.417401)scale(0.1 -0.1)\">\r\n       <use xlink:href=\"#DejaVuSans-48\"/>\r\n       <use x=\"63.623047\" xlink:href=\"#DejaVuSans-46\"/>\r\n       <use x=\"95.410156\" xlink:href=\"#DejaVuSans-56\"/>\r\n      </g>\r\n     </g>\r\n    </g>\r\n    <g id=\"ytick_6\">\r\n     <g id=\"line2d_13\">\r\n      <g>\r\n       <use style=\"stroke:#000000;stroke-width:0.8;\" x=\"30.103125\" xlink:href=\"#md247fe1e3f\" y=\"17.083636\"/>\r\n      </g>\r\n     </g>\r\n     <g id=\"text_13\">\r\n      <!-- 1.0 -->\r\n      <g transform=\"translate(7.2 20.882855)scale(0.1 -0.1)\">\r\n       <use xlink:href=\"#DejaVuSans-49\"/>\r\n       <use x=\"63.623047\" xlink:href=\"#DejaVuSans-46\"/>\r\n       <use x=\"95.410156\" xlink:href=\"#DejaVuSans-48\"/>\r\n      </g>\r\n     </g>\r\n    </g>\r\n   </g>\r\n   <g id=\"line2d_14\">\r\n    <path clip-path=\"url(#pac0caa7b66)\" d=\"M 45.321307 214.756364 \r\nL 51.53281 214.756364 \r\nL 57.744312 214.756364 \r\nL 63.955815 214.756364 \r\nL 70.167318 214.756364 \r\nL 76.378821 214.756364 \r\nL 82.590324 17.083636 \r\nL 88.801826 214.756364 \r\nL 95.013329 214.756364 \r\nL 101.224832 214.756364 \r\nL 107.436335 214.756364 \r\nL 113.647837 214.756364 \r\nL 119.85934 214.756364 \r\nL 126.070843 214.756364 \r\nL 132.282346 214.756364 \r\nL 138.493849 214.756364 \r\nL 144.705351 214.756364 \r\nL 150.916854 214.756364 \r\nL 157.128357 214.756364 \r\nL 163.33986 214.756364 \r\nL 169.551362 214.756364 \r\nL 175.762865 214.756364 \r\nL 181.974368 214.756364 \r\nL 188.185871 214.756364 \r\nL 194.397374 214.756364 \r\nL 200.608876 214.756364 \r\nL 206.820379 214.756364 \r\nL 213.031882 214.756364 \r\nL 219.243385 214.756364 \r\nL 225.454888 214.756364 \r\nL 231.66639 214.756364 \r\nL 237.877893 214.756364 \r\nL 244.089396 214.756364 \r\nL 250.300899 214.756364 \r\nL 256.512401 214.756364 \r\nL 262.723904 214.756364 \r\nL 268.935407 214.756364 \r\nL 275.14691 214.756364 \r\nL 281.358413 214.756364 \r\nL 287.569915 214.756364 \r\nL 293.781418 214.756364 \r\nL 299.992921 214.756364 \r\nL 306.204424 214.756364 \r\nL 312.415926 214.756364 \r\nL 318.627429 214.756364 \r\nL 324.838932 214.756364 \r\nL 331.050435 214.756364 \r\nL 337.261938 214.756364 \r\nL 343.47344 214.756364 \r\nL 349.684943 214.756364 \r\n\" style=\"fill:none;stroke:#1f77b4;stroke-linecap:square;stroke-width:1.5;\"/>\r\n   </g>\r\n   <g id=\"line2d_15\">\r\n    <path clip-path=\"url(#pac0caa7b66)\" d=\"M 337.261938 214.756364 \r\nL 343.47344 214.756364 \r\nL 349.684943 214.756364 \r\n\" style=\"fill:none;stroke:#ff7f0e;stroke-linecap:square;stroke-width:1.5;\"/>\r\n   </g>\r\n   <g id=\"patch_3\">\r\n    <path d=\"M 30.103125 224.64 \r\nL 30.103125 7.2 \r\n\" style=\"fill:none;stroke:#000000;stroke-linecap:square;stroke-linejoin:miter;stroke-width:0.8;\"/>\r\n   </g>\r\n   <g id=\"patch_4\">\r\n    <path d=\"M 364.903125 224.64 \r\nL 364.903125 7.2 \r\n\" style=\"fill:none;stroke:#000000;stroke-linecap:square;stroke-linejoin:miter;stroke-width:0.8;\"/>\r\n   </g>\r\n   <g id=\"patch_5\">\r\n    <path d=\"M 30.103125 224.64 \r\nL 364.903125 224.64 \r\n\" style=\"fill:none;stroke:#000000;stroke-linecap:square;stroke-linejoin:miter;stroke-width:0.8;\"/>\r\n   </g>\r\n   <g id=\"patch_6\">\r\n    <path d=\"M 30.103125 7.2 \r\nL 364.903125 7.2 \r\n\" style=\"fill:none;stroke:#000000;stroke-linecap:square;stroke-linejoin:miter;stroke-width:0.8;\"/>\r\n   </g>\r\n  </g>\r\n </g>\r\n <defs>\r\n  <clipPath id=\"pac0caa7b66\">\r\n   <rect height=\"217.44\" width=\"334.8\" x=\"30.103125\" y=\"7.2\"/>\r\n  </clipPath>\r\n </defs>\r\n</svg>\r\n",
      "image/png": "[encoded data removed]"
     },
     "metadata": {
      "needs_background": "light"
     }
    },
    {
     "output_type": "stream",
     "name": "stdout",
     "text": "1.919949262012782\n"
    }
   ],
   "source": [
    "from sklearn.metrics import mean_squared_error\n",
    "for _, device in grp:\n",
    "    train = device.iloc[-10:-3]\n",
    "    test = device.iloc[-3:]\n",
    "    pred = sarimax(train, 3).set_index(test.index)\n",
    "    plt.plot(device[\"num_orders\"].reset_index(level = [\"store_id\", \"device_id\"], drop=True))\n",
    "    plt.plot(pred[\"num_orders\"].reset_index(level = [\"store_id\", \"device_id\"], drop=True))\n",
    "    plt.show()\n",
    "    plt.plot(device[\"product_256\"].reset_index(level = [\"store_id\", \"device_id\"], drop=True))\n",
    "    plt.plot(pred[\"product_256\"].reset_index(level = [\"store_id\", \"device_id\"], drop=True))\n",
    "    plt.show()\n",
    "    plt.plot(device[\"product_131\"].reset_index(level = [\"store_id\", \"device_id\"], drop=True))\n",
    "    plt.plot(pred[\"product_131\"].reset_index(level = [\"store_id\", \"device_id\"], drop=True))\n",
    "    plt.show()\n",
    "    \n",
    "    print(mean_squared_error(test, pred, squared=False, multioutput=\"uniform_average\"))\n",
    "    break"
   ]
  },
  {
   "cell_type": "code",
   "execution_count": 319,
   "metadata": {},
   "outputs": [],
   "source": [
    "from statsmodels.tsa.vector_ar.var_model import VAR\n",
    "#from statsmodels.tsa.arima.model import ARIMA\n",
    "from theta_model import sesThetaF\n",
    "from statsmodels.tsa.forecasting.theta import ThetaModel \n",
    "import statsmodels.api as sm\n",
    "import warnings\n",
    "\n",
    "def naive_forecast(train, n_steps):\n",
    "    return train.iloc[-n_steps:]\n",
    "\n",
    "def sarimax(train, n_steps):\n",
    "    const_cols = train.columns[train[-7:].nunique() <= 1]\n",
    "    other_cols = [col for col in train.columns if col not in const_cols]\n",
    "\n",
    "    pred = pd.DataFrame(columns=train.columns, index=pd.Index(range(n_steps)))\n",
    "    static_forecast = train[const_cols].iloc[-1].to_frame().T.reset_index(drop=True).reindex(pd.Series(range(n_steps)), method=\"ffill\")\n",
    "    pred.update(pd.DataFrame(static_forecast, columns=const_cols, index=pred.index))\n",
    "\n",
    "    train.reset_index(level = [\"store_id\", \"device_id\"], drop=True, inplace=True)\n",
    "    #train.index = pd.DatetimeIndex(train.index.values, freq=train.index.inferred_freq)\n",
    "    for col in other_cols:\n",
    "        with warnings.catch_warnings():\n",
    "            warnings.filterwarnings(\"ignore\")\n",
    "            \n",
    "            mod = sm.tsa.statespace.SARIMAX(train[col],\n",
    "                order=(0, 0, 1),\n",
    "                seasonal_order=(0, 1, 1, 7),\n",
    "                enforce_stationarity=False,\n",
    "                enforce_invertibility=False)\n",
    "            res = mod.fit()\n",
    "            forecast_val = res.forecast(n_steps).values\n",
    "            pred[col] = forecast_val\n",
    "    return pred\n",
    "\n",
    "def theta(train, n_steps):\n",
    "    const_cols = train.columns[train[-7:].nunique() <= 1]\n",
    "    other_cols = [col for col in train.columns if col not in const_cols]\n",
    "\n",
    "    pred = pd.DataFrame(columns=train.columns, index=pd.Index(range(n_steps)))\n",
    "    static_forecast = train[const_cols].iloc[-1].to_frame().T.reset_index(drop=True).reindex(pd.Series(range(n_steps)), method=\"ffill\")\n",
    "    pred.update(pd.DataFrame(static_forecast, columns=const_cols, index=pred.index))\n",
    "\n",
    "    train.reset_index(level = [\"store_id\", \"device_id\"], drop=True, inplace=True)\n",
    "    train.index = pd.DatetimeIndex(train.index.values, freq=train.index.inferred_freq)\n",
    "    for col in other_cols:\n",
    "        with warnings.catch_warnings():\n",
    "            warnings.filterwarnings(\"ignore\")\n",
    "            res = ThetaModel(train[col], deseasonalize = True, use_test=False).fit()\n",
    "            pred[col] = res.forecast(steps=n_steps, theta=1).values\n",
    "    return pred\n",
    "\n",
    "def var(train, n_steps):\n",
    "    const_cols = train.columns[train[-7:].nunique() <= 1]\n",
    "    other_cols = [col for col in train.columns if col not in const_cols]\n",
    "\n",
    "    pred = pd.DataFrame(columns=train.columns, index=pd.Index(range(n_steps)))\n",
    "    static_forecast = train[const_cols].iloc[-1].to_frame().T.reset_index(drop=True).reindex(pd.Series(range(n_steps)), method=\"ffill\")\n",
    "    pred.update(pd.DataFrame(static_forecast, columns=const_cols, index=pred.index))\n",
    "    with warnings.catch_warnings():\n",
    "        warnings.filterwarnings(\"ignore\")\n",
    "        model = VAR(endog=train[other_cols].reset_index(level=[\"store_id\", \"device_id\"], drop=True))\n",
    "    model_fit = None\n",
    "    for maxlag in range(28, 2, -1):\n",
    "        try:\n",
    "            model_fit = model.fit(maxlags=maxlag, trend=\"nc\")\n",
    "            break\n",
    "        except:\n",
    "            continue\n",
    "\n",
    "    var_forecast = model_fit.forecast(model_fit.y, steps=n_steps)\n",
    "    pred.update(pd.DataFrame(var_forecast, columns=other_cols, index=pred.index))\n",
    "    return pred"
   ]
  },
  {
   "cell_type": "code",
   "execution_count": 332,
   "metadata": {},
   "outputs": [],
   "source": [
    "from sklearn.metrics.cluster import adjusted_mutual_info_score\n",
    "from sklearn.metrics import mean_squared_error, r2_score\n",
    "from sklearn.decomposition import TruncatedSVD\n",
    "\n",
    "def forecast_test(df, intervals, freqs, f_methods, c_methods, verbose=False):\n",
    "    start_time = time.time()\n",
    "    scores = []\n",
    "    windows = [(train, test, get_test_train_split(df, train, test)[-1]) for train, test in intervals]\n",
    "    n_tests = len(windows)*len(freqs)*len(f_methods)\n",
    "    tests_completed = 0\n",
    "\n",
    "    for train_l, test_l, (start, mid, end) in windows:\n",
    "        if train_l < test_l:\n",
    "            tests_completed += len(freqs)\n",
    "            if verbose:\n",
    "                time_est = (n_tests-tests_completed) * (datetime.timedelta(seconds=(time.time()-start_time)) / tests_completed)\n",
    "                print(\"\\rTest:\", str(tests_completed) + \"/\" + str(n_tests), \"\\tTime remaining (est):\", str(time_est), end=\"\")\n",
    "            continue\n",
    "\n",
    "        window = df[(df.index.get_level_values(\"date\") > start) & (df.index.get_level_values(\"date\") <= end)]\n",
    "        for freq in freqs:\n",
    "            window_f = format_ts(window, start, end, freq, normalize=True)\n",
    "            rmse = []\n",
    "            r2 = []\n",
    "            clust_ami = {c_m.__name__ : [] for c_m in c_methods}\n",
    "\n",
    "            true_val = window_f[window_f.index.get_level_values(\"date\") > mid]\n",
    "            true_val = format_ts(true_val, mid, end, freq, flatten=True, normalize=True)\n",
    "            true_svd = TruncatedSVD(n_components=min(1000, true_val.shape[1]-1), random_state=0)\n",
    "            true_svd.fit(true_val)\n",
    "            true_variance = true_svd.explained_variance_ratio_.cumsum()\n",
    "            true_clust = {c_method.__name__ : c_method(true_svd.transform(true_val)[:,true_variance < 0.96], 4) for c_method in c_methods}\n",
    "\n",
    "            for f_method in f_methods:\n",
    "                pred_val = pd.DataFrame(index=pd.MultiIndex.from_arrays([[]] * 3, names=['store_id', 'device_id', 'date']), columns=window_f.columns)\n",
    "                for _, device in window_f.groupby(level=\"device_id\"):\n",
    "                    train = device[(device.index.get_level_values(\"date\") <= mid)]\n",
    "                    test = device[(device.index.get_level_values(\"date\") > mid)]\n",
    "                    pred = f_method(train, len(test)).set_index(test.index)\n",
    "\n",
    "                    pred_val = pred_val.append(pred, verify_integrity=True)\n",
    "                    \n",
    "                    rmse.append(mean_squared_error(test, pred, squared=False, multioutput=\"uniform_average\"))\n",
    "                    r2.append(r2_score(test, pred, multioutput=\"variance_weighted\"))\n",
    "\n",
    "                res = {\n",
    "                    \"train_window\": train_l, \n",
    "                    \"test_window\": test_l, \n",
    "                    \"freq\": freq, \n",
    "                    \"forecast_method\": f_method.__name__, \n",
    "                    \"rmse\": np.mean(rmse), \n",
    "                    \"r2_score\": np.mean(r2)\n",
    "                    }\n",
    "\n",
    "                pred_val = pred_val.astype(float)\n",
    "                pred_val = format_ts(pred_val, mid, end, freq, flatten=True, normalize=True)\n",
    "                pred_svd = TruncatedSVD(n_components=min(1000, pred_val.shape[1]-1), random_state=0)\n",
    "                pred_svd.fit(pred_val)\n",
    "                pred_variance = pred_svd.explained_variance_ratio_.cumsum()\n",
    "                pred_val = pred_svd.transform(pred_val)[:,pred_variance < 0.96]\n",
    "\n",
    "                for c_method in c_methods:\n",
    "                    res[\"ami_\"+c_method.__name__] = adjusted_mutual_info_score(true_clust[c_method.__name__], c_method(pred_val, 4))\n",
    "                scores.append(res)\n",
    "                tests_completed += 1\n",
    "                if verbose:\n",
    "                    time_est = (n_tests-tests_completed) * (datetime.timedelta(seconds=(time.time()-start_time)) / tests_completed)\n",
    "                    print(\"\\rTest:\", str(tests_completed) + \"/\" + str(n_tests), \"\\tTime remaining (est):\", str(time_est), end=\"\")\n",
    "        \n",
    "    if verbose:\n",
    "        print(\"\\nDone! Total time:\", str(datetime.timedelta(seconds=(time.time()-start_time))))\n",
    "    return scores"
   ]
  },
  {
   "cell_type": "code",
   "execution_count": 354,
   "metadata": {},
   "outputs": [],
   "source": [
    "TEST_NAME = \"theta_train-1-W_test-1-7-D_freq-24-H\"\n",
    "TEST_RES_PATH = \"./test_results/forecast/\" + TEST_NAME + \".csv\""
   ]
  },
  {
   "cell_type": "code",
   "execution_count": 351,
   "metadata": {
    "tags": []
   },
   "outputs": [
    {
     "output_type": "stream",
     "name": "stdout",
     "text": "Test: 3/3 \tTime remaining (est): 0:00:00\nDone! Total time: 0:51:50.770817\n"
    }
   ],
   "source": [
    "import itertools\n",
    "INTERVALS = itertools.product([pd.Timedelta(n, unit=\"D\") for n in [13]], [pd.Timedelta(n, unit=\"D\") for n in [1, 3, 7]])\n",
    "FREQ_UNIT = \"H\"\n",
    "FREQS = [str(n)+FREQ_UNIT for n in [24]]\n",
    "F_METHODS = [theta]\n",
    "C_METHODS = [k_means, agglomerative_single]\n",
    "\n",
    "TEST_DF = pd.DataFrame(forecast_test(TSF, INTERVALS, FREQS, F_METHODS, C_METHODS, verbose=True))"
   ]
  },
  {
   "cell_type": "code",
   "execution_count": 352,
   "metadata": {},
   "outputs": [
    {
     "output_type": "execute_result",
     "data": {
      "text/plain": "                                                   rmse  r2_score  ami_k_means  ami_agglomerative_single\ntrain_window test_window freq forecast_method                                                           \n13 days      1 days      24H  theta            0.096548       NaN     0.225056                  0.330944\n             3 days      24H  theta            0.094298 -1.988446     0.261138                  0.330947\n             7 days      24H  theta            0.100655 -1.187904     0.324478                  0.665450",
      "text/html": "<div>\n<style scoped>\n    .dataframe tbody tr th:only-of-type {\n        vertical-align: middle;\n    }\n\n    .dataframe tbody tr th {\n        vertical-align: top;\n    }\n\n    .dataframe thead th {\n        text-align: right;\n    }\n</style>\n<table border=\"1\" class=\"dataframe\">\n  <thead>\n    <tr style=\"text-align: right;\">\n      <th></th>\n      <th></th>\n      <th></th>\n      <th></th>\n      <th>rmse</th>\n      <th>r2_score</th>\n      <th>ami_k_means</th>\n      <th>ami_agglomerative_single</th>\n    </tr>\n    <tr>\n      <th>train_window</th>\n      <th>test_window</th>\n      <th>freq</th>\n      <th>forecast_method</th>\n      <th></th>\n      <th></th>\n      <th></th>\n      <th></th>\n    </tr>\n  </thead>\n  <tbody>\n    <tr>\n      <th rowspan=\"3\" valign=\"top\">13 days</th>\n      <th>1 days</th>\n      <th>24H</th>\n      <th>theta</th>\n      <td>0.096548</td>\n      <td>NaN</td>\n      <td>0.225056</td>\n      <td>0.330944</td>\n    </tr>\n    <tr>\n      <th>3 days</th>\n      <th>24H</th>\n      <th>theta</th>\n      <td>0.094298</td>\n      <td>-1.988446</td>\n      <td>0.261138</td>\n      <td>0.330947</td>\n    </tr>\n    <tr>\n      <th>7 days</th>\n      <th>24H</th>\n      <th>theta</th>\n      <td>0.100655</td>\n      <td>-1.187904</td>\n      <td>0.324478</td>\n      <td>0.665450</td>\n    </tr>\n  </tbody>\n</table>\n</div>"
     },
     "metadata": {},
     "execution_count": 352
    }
   ],
   "source": [
    "TEST_DF.set_index([\"train_window\", \"test_window\", \"freq\", \"forecast_method\"], inplace=True)\n",
    "TEST_DF"
   ]
  },
  {
   "cell_type": "code",
   "execution_count": 347,
   "metadata": {},
   "outputs": [
    {
     "output_type": "execute_result",
     "data": {
      "text/plain": "                                                   rmse  r2_score  ami_k_means  ami_agglomerative_single\ntrain_window test_window freq forecast_method                                                           \n9 days       1 days      24H  sarimax          0.092632       NaN     0.198839                 -0.003508\n             3 days      24H  sarimax          0.084310 -1.257162     0.301921                  0.330944\n             7 days      24H  sarimax          0.098935 -0.933335     0.365695                  0.665448",
      "text/html": "<div>\n<style scoped>\n    .dataframe tbody tr th:only-of-type {\n        vertical-align: middle;\n    }\n\n    .dataframe tbody tr th {\n        vertical-align: top;\n    }\n\n    .dataframe thead th {\n        text-align: right;\n    }\n</style>\n<table border=\"1\" class=\"dataframe\">\n  <thead>\n    <tr style=\"text-align: right;\">\n      <th></th>\n      <th></th>\n      <th></th>\n      <th></th>\n      <th>rmse</th>\n      <th>r2_score</th>\n      <th>ami_k_means</th>\n      <th>ami_agglomerative_single</th>\n    </tr>\n    <tr>\n      <th>train_window</th>\n      <th>test_window</th>\n      <th>freq</th>\n      <th>forecast_method</th>\n      <th></th>\n      <th></th>\n      <th></th>\n      <th></th>\n    </tr>\n  </thead>\n  <tbody>\n    <tr>\n      <th rowspan=\"3\" valign=\"top\">9 days</th>\n      <th>1 days</th>\n      <th>24H</th>\n      <th>sarimax</th>\n      <td>0.092632</td>\n      <td>NaN</td>\n      <td>0.198839</td>\n      <td>-0.003508</td>\n    </tr>\n    <tr>\n      <th>3 days</th>\n      <th>24H</th>\n      <th>sarimax</th>\n      <td>0.084310</td>\n      <td>-1.257162</td>\n      <td>0.301921</td>\n      <td>0.330944</td>\n    </tr>\n    <tr>\n      <th>7 days</th>\n      <th>24H</th>\n      <th>sarimax</th>\n      <td>0.098935</td>\n      <td>-0.933335</td>\n      <td>0.365695</td>\n      <td>0.665448</td>\n    </tr>\n  </tbody>\n</table>\n</div>"
     },
     "metadata": {},
     "execution_count": 347
    }
   ],
   "source": [
    "TEST_DF"
   ]
  },
  {
   "cell_type": "code",
   "execution_count": 355,
   "metadata": {
    "tags": []
   },
   "outputs": [],
   "source": [
    "save_df(TEST_DF, TEST_RES_PATH)"
   ]
  },
  {
   "cell_type": "markdown",
   "metadata": {},
   "source": [
    "## SARIMAX"
   ]
  },
  {
   "cell_type": "code",
   "execution_count": null,
   "metadata": {},
   "outputs": [],
   "source": [
    "import warnings\n",
    "import itertools\n",
    "import numpy as np\n",
    "import matplotlib.pyplot as plt\n",
    "warnings.filterwarnings(\"ignore\")\n",
    "plt.style.use('fivethirtyeight')\n",
    "import pandas as pd\n",
    "import statsmodels.api as sm\n",
    "import matplotlib"
   ]
  },
  {
   "cell_type": "code",
   "execution_count": null,
   "metadata": {
    "tags": []
   },
   "outputs": [],
   "source": [
    "start, end = get_intervals(TSF, pd.Timedelta(8, unit=\"W\"))[0]\n",
    "\n",
    "window = TSF[(TSF.index.get_level_values(\"date\") > start) & (TSF.index.get_level_values(\"date\") <= end)]\n",
    "formatted_window = format_ts(window, start, end, \"24H\", [], flatten=False, normalize=False)\n",
    "grp = formatted_window.groupby(level=\"device_id\")\n"
   ]
  },
  {
   "cell_type": "code",
   "execution_count": null,
   "metadata": {
    "tags": []
   },
   "outputs": [],
   "source": [
    "for _, device in grp: \n",
    "    print(device.shape)\n",
    "    y = device[\"product_256\"].reset_index(level = [\"store_id\", \"device_id\"], drop=True)\n",
    "    break"
   ]
  },
  {
   "cell_type": "code",
   "execution_count": null,
   "metadata": {},
   "outputs": [],
   "source": [
    "sarimax(y, 10)"
   ]
  },
  {
   "cell_type": "code",
   "execution_count": null,
   "metadata": {},
   "outputs": [],
   "source": [
    "from pylab import rcParams\n",
    "rcParams['figure.figsize'] = 18, 8\n",
    "decomposition = sm.tsa.seasonal_decompose(y, model='additive')\n",
    "fig = decomposition.plot()\n",
    "plt.show()"
   ]
  },
  {
   "cell_type": "code",
   "execution_count": null,
   "metadata": {
    "tags": []
   },
   "outputs": [],
   "source": [
    "import itertools\n",
    "p = d = q = range(0, 2)\n",
    "pdq = list(itertools.product(p, d, q))\n",
    "seasonal_pdq = [(x[0], x[1], x[2], 7) for x in list(itertools.product(p, d, q))]\n",
    "\n",
    "print('Examples of parameter combinations for Seasonal ARIMA...')\n",
    "print('SARIMAX: {} x {}'.format(pdq[1], seasonal_pdq[1]))\n",
    "print('SARIMAX: {} x {}'.format(pdq[1], seasonal_pdq[2]))\n",
    "print('SARIMAX: {} x {}'.format(pdq[2], seasonal_pdq[3]))\n",
    "print('SARIMAX: {} x {}'.format(pdq[2], seasonal_pdq[4]))"
   ]
  },
  {
   "cell_type": "code",
   "execution_count": null,
   "metadata": {
    "tags": []
   },
   "outputs": [],
   "source": [
    "min_aic = ((),(),np.inf)\n",
    "for param in pdq:\n",
    "    for param_seasonal in seasonal_pdq:\n",
    "        mod = sm.tsa.statespace.SARIMAX(y,\n",
    "        order=param,\n",
    "        seasonal_order=param_seasonal,\n",
    "        enforce_stationarity=False,\n",
    "        enforce_invertibility=False)\n",
    "        results = mod.fit()\n",
    "        if results.aic < min_aic[2]:\n",
    "            min_aic = (param, param_seasonal, results.aic)\n",
    "        #print('ARIMA{}x{} - AIC:{}'.format(param, param_seasonal, results.aic))\n",
    "print()\n",
    "print(\"Best params:\")\n",
    "print('ARIMA{}x{} - AIC:{}'.format(*min_aic))"
   ]
  },
  {
   "cell_type": "code",
   "execution_count": null,
   "metadata": {
    "tags": []
   },
   "outputs": [],
   "source": [
    "mod = sm.tsa.statespace.SARIMAX(y,\n",
    "    order=(0, 0, 1),\n",
    "    seasonal_order=(0, 1, 1, 7),\n",
    "    enforce_stationarity=False,\n",
    "    enforce_invertibility=False)\n",
    "results = mod.fit()\n",
    "print(results.summary().tables[1])"
   ]
  },
  {
   "cell_type": "code",
   "execution_count": null,
   "metadata": {},
   "outputs": [],
   "source": [
    "results.plot_diagnostics(figsize=(16, 8))\n",
    "plt.show()"
   ]
  },
  {
   "cell_type": "code",
   "execution_count": null,
   "metadata": {},
   "outputs": [],
   "source": [
    "pred = results.get_prediction(start=pd.to_datetime('2020-02-01'), dynamic=False)\n",
    "pred_ci = pred.conf_int()\n",
    "ax = y['2014':].plot(label='observed')\n",
    "pred.predicted_mean.plot(ax=ax, label='One-step ahead Forecast', alpha=.7, figsize=(14, 7))\n",
    "ax.fill_between(pred_ci.index,\n",
    "                pred_ci.iloc[:, 0],\n",
    "                pred_ci.iloc[:, 1], color='k', alpha=.2)\n",
    "ax.set_xlabel('Date')\n",
    "ax.set_ylabel('Sales')\n",
    "plt.legend()\n",
    "plt.show()"
   ]
  },
  {
   "cell_type": "code",
   "execution_count": null,
   "metadata": {},
   "outputs": [],
   "source": [
    "pred = results.get_prediction(start=\"2020-01-01\", dynamic='2020-02-10')\n",
    "#pred_ci = pred.conf_int()\n",
    "ax = y['2014':].plot(label='observed')\n",
    "pred.predicted_mean.plot(ax=ax, label='Dynamic Forecast', alpha=.7, figsize=(14, 7))\n",
    "#ax.fill_between(pred_ci.index,\n",
    "                #pred_ci.iloc[:, 0],\n",
    "                #pred_ci.iloc[:, 1], color='k', alpha=.2)\n",
    "ax.set_xlabel('Date')\n",
    "ax.set_ylabel('Sales')\n",
    "plt.legend()\n",
    "plt.show()"
   ]
  },
  {
   "cell_type": "code",
   "execution_count": null,
   "metadata": {
    "tags": []
   },
   "outputs": [],
   "source": [
    "y_forecasted = pred.predicted_mean\n",
    "y_truth = y['2017-01-01':]\n",
    "mse = ((y_forecasted - y_truth) ** 2).mean()\n",
    "print('The Mean Squared Error of our forecasts is {}'.format(round(mse, 2)))\n",
    "print('The Root Mean Squared Error of our forecasts is {}'.format(round(np.sqrt(mse), 2)))"
   ]
  },
  {
   "cell_type": "markdown",
   "metadata": {},
   "source": [
    "# Extras"
   ]
  },
  {
   "cell_type": "code",
   "execution_count": null,
   "metadata": {},
   "outputs": [],
   "source": [
    "def get_top_cols(df, row_index, n_cols):\n",
    "    if len(df) == 0:\n",
    "        return []\n",
    "    row_frame = df.iloc[row_index].copy()\n",
    "    columns = []\n",
    "    for _ in range(n_cols):\n",
    "        if len(row_frame) == 0:\n",
    "            break\n",
    "        col_id = row_frame.idxmax()\n",
    "        columns.append(col_id)\n",
    "        row_frame = row_frame.drop([col_id])\n",
    "    return columns"
   ]
  },
  {
   "cell_type": "code",
   "execution_count": null,
   "metadata": {},
   "outputs": [],
   "source": [
    "def get_color_dict(labels):\n",
    "    #labels = [col for col in df.columns if col not in [\"device_id\", \"date\", \"store_id\", \"class\", \"total_price\"]]\n",
    "    colors = [cm.rainbow(i) for i in np.linspace(0, 1, len(labels))]\n",
    "    c_dict = {}\n",
    "    for i, label in enumerate(labels):\n",
    "        c_dict[label] = colors[i]\n",
    "    return c_dict"
   ]
  },
  {
   "cell_type": "code",
   "execution_count": null,
   "metadata": {},
   "outputs": [],
   "source": [
    "START_INDEX = 0\n",
    "N_COLS = 6\n",
    "COL_SET = set()\n",
    "for D in DEVICES:\n",
    "    DEVICE_FRAME = TSF.loc[TSF[\"device_id\"] == D[0], COL_WL].copy()\n",
    "    DEVICE_FRAME = DEVICE_FRAME.drop([\"total_price\"], axis=1)\n",
    "    DEVICE_FRAME = DEVICE_FRAME.resample(\"H\").sum().iloc[START_INDEX:]\n",
    "    DEVICE_FRAME = DEVICE_FRAME.cumsum()\n",
    "    for C in get_top_cols(DEVICE_FRAME, -1, N_COLS):\n",
    "        COL_SET.add(C)\n",
    "COLOR_DICT = get_color_dict(COL_SET)"
   ]
  },
  {
   "cell_type": "code",
   "execution_count": null,
   "metadata": {},
   "outputs": [],
   "source": [
    "for D in DEVICES:\n",
    "    DEVICE_FRAME = TSF.loc[TSF[\"device_id\"] == D[0], column_whitelist].copy()\n",
    "    if len(DEVICE_FRAME) == 0:\n",
    "        continue\n",
    "    DEVICE_FRAME = DEVICE_FRAME.drop([\"total_price\"], axis=1)\n",
    "    DEVICE_FRAME = DEVICE_FRAME.resample(\"H\").sum().iloc[START_INDEX:]\n",
    "    DEVICE_FRAME = DEVICE_FRAME.cumsum()\n",
    "    COLS = get_top_cols(DEVICE_FRAME, -1, N_COLS)\n",
    "    fig = plt.figure()\n",
    "    DEVICE_FRAME.plot(kind='line',y=COLS, figsize=(16, 10), color=[COLOR_DICT.get(x, '#666666') for x in COLS], linewidth=3.0)\n",
    "    plt.legend(prop={'size': 18})\n",
    "    plt.figtext(.5,.9, \"Device \"+str(D[0])+\", Store \"+str(D[2]),fontsize=24)\n",
    "    #plt.show()\n",
    "    plt.savefig(\"C:/Users/user/Desktop/store_/\"+str(D[2]+\"/\"+\"device_\"+str(D[0])+\"_day.png\")\n",
    "    plt.close(fig)"
   ]
  },
  {
   "cell_type": "code",
   "execution_count": null,
   "metadata": {},
   "outputs": [],
   "source": [
    "def add_time_cols(df):\n",
    "    df[\"hour\"] = df.index.hour\n",
    "    df[\"day_of_week\"] = df.index.dayofweek\n",
    "    df[\"day_of_month\"] = df.index.day\n",
    "    df[\"month\"] = df.index.month\n",
    "    holidays_swe = holidays.Sweden(include_sundays=False)[df.index[0]: df.index[-1]]\n",
    "    df[\"holiday\"] = [1 if d in holidays_swe else 0 for d in df.index.date]\n",
    "\n",
    "def remove_zero_sequence(df, col, min_length):\n",
    "    mask = col.groupby((col != col.shift()).cumsum()).transform('count').lt(min_length)\n",
    "    mask = ~(mask | col.gt(0))\n",
    "    df.drop(mask[mask].index, axis=0, inplace=True)"
   ]
  },
  {
   "cell_type": "code",
   "execution_count": null,
   "metadata": {},
   "outputs": [],
   "source": [
    "def get_test_train_split(df, train_len=pd.Timedelta(4, unit='W'), forecast_len=pd.Timedelta(1, unit='W'), expanding_window=False):\n",
    "    start = df.index.values[0]\n",
    "    split = start + train_len\n",
    "    forecast_end = split + forecast_len\n",
    "    end = df.index.values[-1]\n",
    "    sets = []\n",
    "    while end > forecast_end:\n",
    "        sets.append((df[start:split].index, df[split:forecast_end].index))\n",
    "        if not expanding_window:\n",
    "            start += train_len + forecast_len\n",
    "        split += train_len + forecast_len\n",
    "        forecast_end += train_len + forecast_len\n",
    "    return sets\n",
    "\n",
    "DEVICE_FRAME = TSF.loc[TSF[\"device_id\"] == DEVICES[0][0], COL_WL].copy()\n",
    "len(get_test_train_split(DEVICE_FRAME))"
   ]
  },
  {
   "cell_type": "code",
   "execution_count": null,
   "metadata": {},
   "outputs": [],
   "source": [
    "from statsmodels.tsa.vector_ar.var_model import VAR\n",
    "\n",
    "def train_and_predict_var(train_set, n_steps):\n",
    "    model = VAR(endog=train_set)\n",
    "    model_fit = model.fit(maxlags=2, trend=\"nc\")\n",
    "    print(model_fit.y)\n",
    "    return\n",
    "    prediction = model_fit.forecast(model_fit.y, steps=n_steps)\n",
    "    return prediction"
   ]
  },
  {
   "cell_type": "code",
   "execution_count": null,
   "metadata": {},
   "outputs": [],
   "source": [
    "from sklearn.metrics import mean_squared_error, mean_absolute_error, median_absolute_error\n",
    "\n",
    "def validate(predictions, true_val):\n",
    "    sum_meanAE = mean_absolute_error(predictions, true_val).sum()\n",
    "    sum_medianAE = median_absolute_error(predictions, true_val).sum()\n",
    "    return sum_meanAE, sum_medianAE"
   ]
  },
  {
   "cell_type": "code",
   "execution_count": null,
   "metadata": {},
   "outputs": [],
   "source": [
    "DEVICE_FRAME = TSF.loc[TSF[\"device_id\"] == DEVICES[0][0], COL_WL].copy()\n",
    "#DEVICE_FRAME[\"orders\"] = 1\n",
    "AGG_DICT = {col_name:np.sum for col_name in DEVICE_FRAME.columns}\n",
    "AGG_DICT.update({\"total_price\":np.mean})\n",
    "DEVICE_FRAME = DEVICE_FRAME.resample(\"H\").agg(AGG_DICT).fillna(0).cumsum()\n",
    "DEVICE_FRAME.rename(columns={'total_price': 'average_price'}, inplace=True)\n",
    "DEVICE_FRAME.drop([\"average_price\"], axis=1, inplace=True)\n",
    "#remove_zero_sequence(DEVICE_FRAME, DEVICE_FRAME.orders, 25)\n",
    "#add_time_cols(DEVICE_FRAME)"
   ]
  },
  {
   "cell_type": "code",
   "execution_count": null,
   "metadata": {},
   "outputs": [],
   "source": [
    "test_train = get_test_train_split(DEVICE_FRAME)\n",
    "pred = train_and_predict_var(DEVICE_FRAME.loc[test_train[0][0]], len(test_train[0][1]))\n",
    "validate(pred, DEVICE_FRAME.loc[test_train[0][1]])"
   ]
  },
  {
   "cell_type": "code",
   "execution_count": null,
   "metadata": {},
   "outputs": [],
   "source": [
    "SUM_TRUE = DEVICE_FRAME.loc[test_train[0][1]]#DEVICE_FRAME.loc[test_train[0][0]].append(DEVICE_FRAME.loc[test_train[0][1]])\n",
    "PRED = pd.DataFrame(index=SUM_TRUE.index,columns=SUM_TRUE.columns)\n",
    "for j in range(0,len(DEVICE_FRAME.loc[test_train[0][1]].columns)):\n",
    "    for i in range(0, len(pred)):\n",
    "       PRED.iloc[i][j] = pred[i][j]\n",
    "SUM_VAR = PRED\n",
    "COLS = get_top_cols(SUM_TRUE, -1, 5)\n",
    "COLOR_DICT = get_color_dict(COLS)\n",
    "_, ax = plt.subplots()\n",
    "SUM_TRUE.plot(ax=ax, kind='line',y=COLS, figsize=(20, 14), color=[COLOR_DICT.get(x, '#FFFFFF') for x in COLS], linewidth=3.0)\n",
    "SUM_VAR.plot(linestyle='dashed', ax=ax, kind='line',y=COLS, figsize=(20, 14), color=[COLOR_DICT.get(x, '#FFFFFF') for x in COLS], linewidth=3.0)\n",
    "plt.legend(prop={'size': 18})\n",
    "plt.show()"
   ]
  },
  {
   "cell_type": "code",
   "execution_count": null,
   "metadata": {},
   "outputs": [],
   "source": [
    "for train, test in get_test_train_split(DEVICE_FRAME, pd.Timedelta(4, unit='W'), pd.Timedelta(1, unit='W')):\n",
    "    train = DEVICE_FRAME.loc[train]\n",
    "    test = DEVICE_FRAME.loc[test]#-train.iloc[-1]\n",
    "    pred = train_and_predict_var(train, len(test))\n",
    "    #validate(pred, test)\n",
    "\n",
    "    SUM_TRUE = test#DEVICE_FRAME.loc[test_train[0][0]].append(DEVICE_FRAME.loc[test_train[0][1]])\n",
    "    PRED = pd.DataFrame(index=test.index,columns=test.columns)\n",
    "    for j in range(0,len(test.columns)):\n",
    "        for i in range(0, len(pred)):\n",
    "            PRED.iloc[i][j] = pred[i][j]\n",
    "    SUM_VAR = PRED#-train.iloc[-1]\n",
    "    COLS = get_top_cols(SUM_TRUE, -1, 5)\n",
    "    COLOR_DICT = get_color_dict(COLS)\n",
    "    _, ax = plt.subplots()\n",
    "    train.append(SUM_TRUE).plot(ax=ax, kind='line',y=COLS, figsize=(20, 14), color=[COLOR_DICT.get(x, '#FFFFFF') for x in COLS], linewidth=3.0)\n",
    "    SUM_VAR.plot(linestyle='dashed', ax=ax, kind='line',y=COLS, figsize=(20, 14), color=[COLOR_DICT.get(x, '#FFFFFF') for x in COLS], linewidth=3.0)\n",
    "    plt.legend(prop={'size': 18})\n",
    "    plt.show()"
   ]
  },
  {
   "cell_type": "code",
   "execution_count": null,
   "metadata": {},
   "outputs": [],
   "source": [
    "plt.scatter(DEVICE_FRAME.index, DEVICE_FRAME[\"orders\"].cumsum())\n",
    "plt.figure(figsize=(20,100))"
   ]
  },
  {
   "cell_type": "code",
   "execution_count": null,
   "metadata": {},
   "outputs": [],
   "source": [
    "TRAIN_PERCENT = 0.8\n",
    "TRAIN_SIZE = -336#int(len(DEVICE_FRAME)*TRAIN_PERCENT)\n",
    "TRAIN_Y = DEVICE_FRAME[:TRAIN_SIZE]\n",
    "TRAIN_Y = TRAIN_Y.loc[:, (TRAIN_Y != TRAIN_Y.iloc[0]).any()]\n",
    "VAL_Y = DEVICE_FRAME[TRAIN_Y.columns][TRAIN_SIZE:]\n",
    "#TRAIN_X = DEVICE_FRAME[\"day\"]\n",
    "#VAL_X = DEVICE_FRAME[\"day\"]"
   ]
  },
  {
   "cell_type": "code",
   "execution_count": null,
   "metadata": {},
   "outputs": [],
   "source": [
    "#creating the train and validation set\n",
    "train = TRAIN_Y\n",
    "valid = VAL_Y\n",
    "naive_pred = DEVICE_FRAME[TRAIN_SIZE-1:-1]\n",
    "\n",
    "#fit the model\n",
    "from statsmodels.tsa.vector_ar.var_model import VAR\n",
    "\n",
    "model = VAR(endog=train)\n",
    "model_fit = model.fit()\n",
    "\n",
    "# make prediction on validation\n",
    "prediction = model_fit.forecast(model_fit.y, steps=len(valid))"
   ]
  },
  {
   "cell_type": "code",
   "execution_count": null,
   "metadata": {},
   "outputs": [],
   "source": [
    "#converting predictions to dataframe\n",
    "pred = pd.DataFrame(index=valid.index,columns=VAL_Y.columns)\n",
    "for j in range(0,len(VAL_Y.columns)):\n",
    "    for i in range(0, len(prediction)):\n",
    "       pred.iloc[i][j] = prediction[i][j]"
   ]
  },
  {
   "cell_type": "code",
   "execution_count": null,
   "metadata": {
    "tags": [
     "outputPrepend"
    ]
   },
   "outputs": [],
   "source": [
    "#check rmse\n",
    "print(\"MAE VAR, MAE Naive, Min Val, Max Val\")\n",
    "MIN = valid.min()\n",
    "MAX = valid.max()\n",
    "SUM_MAE = 0\n",
    "for i in pred.columns:\n",
    "    SUM_MAE += mean_absolute_error(pred[i], valid[i])\n",
    "    print('MAE value for', str(i)+':\\t', mean_absolute_error(pred[i], valid[i]), \"\\t\", mean_absolute_error(naive_pred[i], valid[i]), \"\\t\", MIN[i], \"\\t\", MAX[i])\n",
    "print(\"AVG MAE:\", (SUM_MAE/len(VAL_Y.columns)))"
   ]
  },
  {
   "cell_type": "code",
   "execution_count": null,
   "metadata": {},
   "outputs": [],
   "source": [
    "#converting predictions to dataframe\n",
    "pred = pd.DataFrame(index=valid.index,columns=DEVICE_FRAME.columns)\n",
    "for j in range(0,len(DEVICE_FRAME.columns)):\n",
    "    for i in range(0, len(prediction)):\n",
    "       pred.iloc[i][j] = prediction[i][j]\n",
    "\n",
    "#check rmse\n",
    "print(\"RMSE for VAR predictions and Naive Predictions\")\n",
    "for i in DEVICE_FRAME.columns:\n",
    "    print('rmse value for', i, 'is : ', sqrt(mean_squared_error(pred[i], valid[i])), \"\\t\", sqrt(mean_squared_error(naive_pred[i], valid[i])))"
   ]
  },
  {
   "cell_type": "code",
   "execution_count": null,
   "metadata": {},
   "outputs": [],
   "source": [
    "from sklearn.preprocessing import StandardScaler\n",
    "sc = StandardScaler()\n",
    "\n",
    "DEVICE_FRAME = sc.fit_transform(DEVICE_FRAME)\n",
    "DEVICE_FRAME.min()"
   ]
  }
 ],
 "metadata": {
  "kernelspec": {
   "display_name": "Python 3",
   "language": "python",
   "name": "python3"
  },
  "language_info": {
   "codemirror_mode": {
    "name": "ipython",
    "version": 3
   },
   "file_extension": ".py",
   "mimetype": "text/x-python",
   "name": "python",
   "nbconvert_exporter": "python",
   "pygments_lexer": "ipython3",
   "version": "3.6.10-final"
  }
 },
 "nbformat": 4,
 "nbformat_minor": 2
}